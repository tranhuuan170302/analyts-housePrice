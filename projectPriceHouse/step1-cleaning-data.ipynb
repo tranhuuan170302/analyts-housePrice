{
 "cells": [
  {
   "cell_type": "markdown",
   "id": "ba433faa-0312-47a1-8362-4b14261b0d61",
   "metadata": {},
   "source": [
    "# import "
   ]
  },
  {
   "cell_type": "code",
   "execution_count": 1,
   "id": "29b8aeb1-e7f3-4ad8-8433-ff4676d74676",
   "metadata": {},
   "outputs": [],
   "source": [
    "import pandas as pd\n",
    "import os\n",
    "\n",
    "from difflib import SequenceMatcher\n",
    "import numpy as np\n",
    "import re\n",
    "from sklearn.preprocessing import LabelEncoder\n",
    "\n",
    "import matplotlib.pyplot as plt\n",
    "import seaborn as sns\n",
    "sns.set(color_codes=True)\n",
    "\n",
    "%matplotlib inline\n"
   ]
  },
  {
   "cell_type": "markdown",
   "id": "9ef04347-9cf9-4d59-b9d7-898a726110ad",
   "metadata": {},
   "source": [
    "# Data Overview"
   ]
  },
  {
   "cell_type": "code",
   "execution_count": 2,
   "id": "6b411c94-facc-4fdb-95ff-82b6cafbf1cb",
   "metadata": {},
   "outputs": [],
   "source": [
    "# creat link of data\n",
    "link = \"C:/Users/FPTSHOP/Downloads/project_houses_price/\"\n",
    "# get data in link\n",
    "files = [file for file in os.listdir(link)]\n",
    "# create Dataframe\n",
    "df = pd.DataFrame()\n",
    "# create type of data\n",
    "types = ['aparment', 'road surface', 'land']\n",
    "for i in range(len(files)):\n",
    "    temp_df = pd.read_excel(link + files[i])\n",
    "    temp_df['type'] = types[i]\n",
    "    df = pd.concat([df, temp_df])"
   ]
  },
  {
   "cell_type": "code",
   "execution_count": 3,
   "id": "80de98fc-7156-45e8-9a12-4fe88d89aedb",
   "metadata": {},
   "outputs": [],
   "source": [
    "#delete columns of data unimportant\n",
    "df.drop(['id_thanh_pho', 'id_quan', 'id_duong', 'id_phuong', 'du_an', 'lat', 'long'], axis=1, inplace=True)"
   ]
  },
  {
   "cell_type": "code",
   "execution_count": 4,
   "id": "183a4c00-65f1-4a5c-bd7b-fa78f0744a2a",
   "metadata": {},
   "outputs": [
    {
     "name": "stdout",
     "output_type": "stream",
     "text": [
      "<class 'pandas.core.frame.DataFrame'>\n",
      "Int64Index: 127360 entries, 0 to 27253\n",
      "Data columns (total 19 columns):\n",
      " #   Column            Non-Null Count   Dtype  \n",
      "---  ------            --------------   -----  \n",
      " 0   Column1           127360 non-null  int64  \n",
      " 1   dien_tich         125695 non-null  float64\n",
      " 2   huong_ban_cong    13411 non-null   object \n",
      " 3   phong_ngu         64729 non-null   float64\n",
      " 4   ten_thanh_pho     127360 non-null  object \n",
      " 5   ten_quan          127359 non-null  object \n",
      " 6   so_tang           50410 non-null   float64\n",
      " 7   mat_tien          30795 non-null   float64\n",
      " 8   noi_that          19551 non-null   object \n",
      " 9   huong_nha         30736 non-null   object \n",
      " 10  so_do             70434 non-null   object \n",
      " 11  gia               116061 non-null  float64\n",
      " 12  gia_m2            115819 non-null  float64\n",
      " 13  project_name      8807 non-null    object \n",
      " 14  ten_duong         113944 non-null  object \n",
      " 15  do_rong_duong     19052 non-null   float64\n",
      " 16  do_rong_duong_ml  64498 non-null   object \n",
      " 17  ten_phuong        113347 non-null  object \n",
      " 18  type              127360 non-null  object \n",
      "dtypes: float64(7), int64(1), object(11)\n",
      "memory usage: 19.4+ MB\n"
     ]
    }
   ],
   "source": [
    "df.info()"
   ]
  },
  {
   "cell_type": "code",
   "execution_count": 5,
   "id": "3528b826-b30b-4068-8e04-3cff4bb30a4b",
   "metadata": {},
   "outputs": [
    {
     "data": {
      "text/html": [
       "<div>\n",
       "<style scoped>\n",
       "    .dataframe tbody tr th:only-of-type {\n",
       "        vertical-align: middle;\n",
       "    }\n",
       "\n",
       "    .dataframe tbody tr th {\n",
       "        vertical-align: top;\n",
       "    }\n",
       "\n",
       "    .dataframe thead th {\n",
       "        text-align: right;\n",
       "    }\n",
       "</style>\n",
       "<table border=\"1\" class=\"dataframe\">\n",
       "  <thead>\n",
       "    <tr style=\"text-align: right;\">\n",
       "      <th></th>\n",
       "      <th>Column1</th>\n",
       "      <th>dien_tich</th>\n",
       "      <th>huong_ban_cong</th>\n",
       "      <th>phong_ngu</th>\n",
       "      <th>ten_thanh_pho</th>\n",
       "      <th>ten_quan</th>\n",
       "      <th>so_tang</th>\n",
       "      <th>mat_tien</th>\n",
       "      <th>noi_that</th>\n",
       "      <th>huong_nha</th>\n",
       "      <th>so_do</th>\n",
       "      <th>gia</th>\n",
       "      <th>gia_m2</th>\n",
       "      <th>project_name</th>\n",
       "      <th>ten_duong</th>\n",
       "      <th>do_rong_duong</th>\n",
       "      <th>do_rong_duong_ml</th>\n",
       "      <th>ten_phuong</th>\n",
       "      <th>type</th>\n",
       "    </tr>\n",
       "  </thead>\n",
       "  <tbody>\n",
       "    <tr>\n",
       "      <th>0</th>\n",
       "      <td>0</td>\n",
       "      <td>75.0</td>\n",
       "      <td>NaN</td>\n",
       "      <td>2.0</td>\n",
       "      <td>Thành phố Hà Nội</td>\n",
       "      <td>Quận Ba Đình</td>\n",
       "      <td>NaN</td>\n",
       "      <td>NaN</td>\n",
       "      <td>NaN</td>\n",
       "      <td>NaN</td>\n",
       "      <td>Sổ đỏ chính chủ</td>\n",
       "      <td>6300.0</td>\n",
       "      <td>84.000000</td>\n",
       "      <td>NaN</td>\n",
       "      <td>Phố Ngọc Khánh</td>\n",
       "      <td>NaN</td>\n",
       "      <td>NaN</td>\n",
       "      <td>Phường Ngọc Khánh</td>\n",
       "      <td>aparment</td>\n",
       "    </tr>\n",
       "    <tr>\n",
       "      <th>1</th>\n",
       "      <td>1</td>\n",
       "      <td>115.0</td>\n",
       "      <td>Đông Nam</td>\n",
       "      <td>3.0</td>\n",
       "      <td>Thành phố Hà Nội</td>\n",
       "      <td>Quận Ba Đình</td>\n",
       "      <td>NaN</td>\n",
       "      <td>NaN</td>\n",
       "      <td>NaN</td>\n",
       "      <td>Tây Bắc</td>\n",
       "      <td>Đã có sổ</td>\n",
       "      <td>10250.0</td>\n",
       "      <td>89.130435</td>\n",
       "      <td>NaN</td>\n",
       "      <td>Phố Ngọc Khánh</td>\n",
       "      <td>NaN</td>\n",
       "      <td>NaN</td>\n",
       "      <td>Phường Ngọc Khánh</td>\n",
       "      <td>aparment</td>\n",
       "    </tr>\n",
       "    <tr>\n",
       "      <th>2</th>\n",
       "      <td>2</td>\n",
       "      <td>100.0</td>\n",
       "      <td>NaN</td>\n",
       "      <td>2.0</td>\n",
       "      <td>Thành phố Hà Nội</td>\n",
       "      <td>Quận Ba Đình</td>\n",
       "      <td>1.0</td>\n",
       "      <td>NaN</td>\n",
       "      <td>NaN</td>\n",
       "      <td>Nam</td>\n",
       "      <td>Sổ hồng/ Sổ đỏ</td>\n",
       "      <td>2600.0</td>\n",
       "      <td>26.000000</td>\n",
       "      <td>NaN</td>\n",
       "      <td>Phố Thành Công Bắc</td>\n",
       "      <td>NaN</td>\n",
       "      <td>NaN</td>\n",
       "      <td>Phường Thành Công</td>\n",
       "      <td>aparment</td>\n",
       "    </tr>\n",
       "    <tr>\n",
       "      <th>3</th>\n",
       "      <td>3</td>\n",
       "      <td>30.0</td>\n",
       "      <td>NaN</td>\n",
       "      <td>2.0</td>\n",
       "      <td>Thành phố Hà Nội</td>\n",
       "      <td>Quận Ba Đình</td>\n",
       "      <td>2.0</td>\n",
       "      <td>NaN</td>\n",
       "      <td>NaN</td>\n",
       "      <td>NaN</td>\n",
       "      <td>Sổ đỏ</td>\n",
       "      <td>3500.0</td>\n",
       "      <td>116.666667</td>\n",
       "      <td>NaN</td>\n",
       "      <td>NaN</td>\n",
       "      <td>NaN</td>\n",
       "      <td>NaN</td>\n",
       "      <td>NaN</td>\n",
       "      <td>aparment</td>\n",
       "    </tr>\n",
       "    <tr>\n",
       "      <th>4</th>\n",
       "      <td>4</td>\n",
       "      <td>72.0</td>\n",
       "      <td>NaN</td>\n",
       "      <td>2.0</td>\n",
       "      <td>Thành phố Hà Nội</td>\n",
       "      <td>Quận Ba Đình</td>\n",
       "      <td>3.0</td>\n",
       "      <td>NaN</td>\n",
       "      <td>NaN</td>\n",
       "      <td>Đông</td>\n",
       "      <td>Sổ hồng/ Sổ đỏ</td>\n",
       "      <td>1750.0</td>\n",
       "      <td>24.305556</td>\n",
       "      <td>NaN</td>\n",
       "      <td>Phố Đặng Dung</td>\n",
       "      <td>NaN</td>\n",
       "      <td>NaN</td>\n",
       "      <td>Phường Quán Thánh</td>\n",
       "      <td>aparment</td>\n",
       "    </tr>\n",
       "  </tbody>\n",
       "</table>\n",
       "</div>"
      ],
      "text/plain": [
       "   Column1  dien_tich huong_ban_cong  phong_ngu     ten_thanh_pho  \\\n",
       "0        0       75.0            NaN        2.0  Thành phố Hà Nội   \n",
       "1        1      115.0       Đông Nam        3.0  Thành phố Hà Nội   \n",
       "2        2      100.0            NaN        2.0  Thành phố Hà Nội   \n",
       "3        3       30.0            NaN        2.0  Thành phố Hà Nội   \n",
       "4        4       72.0            NaN        2.0  Thành phố Hà Nội   \n",
       "\n",
       "       ten_quan  so_tang  mat_tien noi_that huong_nha            so_do  \\\n",
       "0  Quận Ba Đình      NaN       NaN      NaN       NaN  Sổ đỏ chính chủ   \n",
       "1  Quận Ba Đình      NaN       NaN      NaN   Tây Bắc         Đã có sổ   \n",
       "2  Quận Ba Đình      1.0       NaN      NaN       Nam   Sổ hồng/ Sổ đỏ   \n",
       "3  Quận Ba Đình      2.0       NaN      NaN       NaN            Sổ đỏ   \n",
       "4  Quận Ba Đình      3.0       NaN      NaN      Đông   Sổ hồng/ Sổ đỏ   \n",
       "\n",
       "       gia      gia_m2 project_name           ten_duong  do_rong_duong  \\\n",
       "0   6300.0   84.000000          NaN      Phố Ngọc Khánh            NaN   \n",
       "1  10250.0   89.130435          NaN      Phố Ngọc Khánh            NaN   \n",
       "2   2600.0   26.000000          NaN  Phố Thành Công Bắc            NaN   \n",
       "3   3500.0  116.666667          NaN                 NaN            NaN   \n",
       "4   1750.0   24.305556          NaN       Phố Đặng Dung            NaN   \n",
       "\n",
       "  do_rong_duong_ml         ten_phuong      type  \n",
       "0              NaN  Phường Ngọc Khánh  aparment  \n",
       "1              NaN  Phường Ngọc Khánh  aparment  \n",
       "2              NaN  Phường Thành Công  aparment  \n",
       "3              NaN                NaN  aparment  \n",
       "4              NaN  Phường Quán Thánh  aparment  "
      ]
     },
     "execution_count": 5,
     "metadata": {},
     "output_type": "execute_result"
    }
   ],
   "source": [
    "df.head()"
   ]
  },
  {
   "cell_type": "code",
   "execution_count": 6,
   "id": "7c2905a4-279a-49a4-be96-228442a8a3b6",
   "metadata": {},
   "outputs": [
    {
     "data": {
      "text/plain": [
       "Column1                  0\n",
       "dien_tich             1665\n",
       "huong_ban_cong      113949\n",
       "phong_ngu            62631\n",
       "ten_thanh_pho            0\n",
       "ten_quan                 1\n",
       "so_tang              76950\n",
       "mat_tien             96565\n",
       "noi_that            107809\n",
       "huong_nha            96624\n",
       "so_do                56926\n",
       "gia                  11299\n",
       "gia_m2               11541\n",
       "project_name        118553\n",
       "ten_duong            13416\n",
       "do_rong_duong       108308\n",
       "do_rong_duong_ml     62862\n",
       "ten_phuong           14013\n",
       "type                     0\n",
       "dtype: int64"
      ]
     },
     "execution_count": 6,
     "metadata": {},
     "output_type": "execute_result"
    }
   ],
   "source": [
    "df.isna().sum()"
   ]
  },
  {
   "cell_type": "code",
   "execution_count": 7,
   "id": "75c10cd4-7f29-4168-bcc8-42661182f1a2",
   "metadata": {},
   "outputs": [
    {
     "data": {
      "text/html": [
       "<div>\n",
       "<style scoped>\n",
       "    .dataframe tbody tr th:only-of-type {\n",
       "        vertical-align: middle;\n",
       "    }\n",
       "\n",
       "    .dataframe tbody tr th {\n",
       "        vertical-align: top;\n",
       "    }\n",
       "\n",
       "    .dataframe thead th {\n",
       "        text-align: right;\n",
       "    }\n",
       "</style>\n",
       "<table border=\"1\" class=\"dataframe\">\n",
       "  <thead>\n",
       "    <tr style=\"text-align: right;\">\n",
       "      <th></th>\n",
       "      <th>Column1</th>\n",
       "      <th>dien_tich</th>\n",
       "      <th>phong_ngu</th>\n",
       "      <th>so_tang</th>\n",
       "      <th>mat_tien</th>\n",
       "      <th>gia</th>\n",
       "      <th>gia_m2</th>\n",
       "      <th>do_rong_duong</th>\n",
       "    </tr>\n",
       "  </thead>\n",
       "  <tbody>\n",
       "    <tr>\n",
       "      <th>count</th>\n",
       "      <td>127360.000000</td>\n",
       "      <td>1.256950e+05</td>\n",
       "      <td>64729.000000</td>\n",
       "      <td>50410.000000</td>\n",
       "      <td>30795.000000</td>\n",
       "      <td>1.160610e+05</td>\n",
       "      <td>1.158190e+05</td>\n",
       "      <td>19052.000000</td>\n",
       "    </tr>\n",
       "    <tr>\n",
       "      <th>mean</th>\n",
       "      <td>23871.826500</td>\n",
       "      <td>4.107974e+04</td>\n",
       "      <td>4.906672</td>\n",
       "      <td>5.861912</td>\n",
       "      <td>9.261050</td>\n",
       "      <td>2.480137e+08</td>\n",
       "      <td>4.732355e+06</td>\n",
       "      <td>14.835828</td>\n",
       "    </tr>\n",
       "    <tr>\n",
       "      <th>std</th>\n",
       "      <td>16375.351959</td>\n",
       "      <td>5.935946e+06</td>\n",
       "      <td>53.847414</td>\n",
       "      <td>60.856736</td>\n",
       "      <td>25.254711</td>\n",
       "      <td>4.635162e+10</td>\n",
       "      <td>8.299879e+08</td>\n",
       "      <td>15.478882</td>\n",
       "    </tr>\n",
       "    <tr>\n",
       "      <th>min</th>\n",
       "      <td>0.000000</td>\n",
       "      <td>0.000000e+00</td>\n",
       "      <td>-3.000000</td>\n",
       "      <td>1.000000</td>\n",
       "      <td>0.000000</td>\n",
       "      <td>0.000000e+00</td>\n",
       "      <td>0.000000e+00</td>\n",
       "      <td>0.000000</td>\n",
       "    </tr>\n",
       "    <tr>\n",
       "      <th>25%</th>\n",
       "      <td>10613.000000</td>\n",
       "      <td>5.000000e+01</td>\n",
       "      <td>2.000000</td>\n",
       "      <td>4.000000</td>\n",
       "      <td>4.200000</td>\n",
       "      <td>2.560000e+03</td>\n",
       "      <td>3.281250e+01</td>\n",
       "      <td>5.000000</td>\n",
       "    </tr>\n",
       "    <tr>\n",
       "      <th>50%</th>\n",
       "      <td>21226.000000</td>\n",
       "      <td>7.300000e+01</td>\n",
       "      <td>3.000000</td>\n",
       "      <td>5.000000</td>\n",
       "      <td>5.000000</td>\n",
       "      <td>5.850000e+03</td>\n",
       "      <td>9.000000e+01</td>\n",
       "      <td>10.000000</td>\n",
       "    </tr>\n",
       "    <tr>\n",
       "      <th>75%</th>\n",
       "      <td>34132.250000</td>\n",
       "      <td>1.090000e+02</td>\n",
       "      <td>5.000000</td>\n",
       "      <td>6.000000</td>\n",
       "      <td>8.000000</td>\n",
       "      <td>1.680000e+04</td>\n",
       "      <td>2.200000e+02</td>\n",
       "      <td>20.000000</td>\n",
       "    </tr>\n",
       "    <tr>\n",
       "      <th>max</th>\n",
       "      <td>62846.000000</td>\n",
       "      <td>9.071686e+08</td>\n",
       "      <td>9500.000000</td>\n",
       "      <td>9500.000000</td>\n",
       "      <td>999.000000</td>\n",
       "      <td>1.400000e+13</td>\n",
       "      <td>2.296000e+11</td>\n",
       "      <td>666.000000</td>\n",
       "    </tr>\n",
       "  </tbody>\n",
       "</table>\n",
       "</div>"
      ],
      "text/plain": [
       "             Column1     dien_tich     phong_ngu       so_tang      mat_tien  \\\n",
       "count  127360.000000  1.256950e+05  64729.000000  50410.000000  30795.000000   \n",
       "mean    23871.826500  4.107974e+04      4.906672      5.861912      9.261050   \n",
       "std     16375.351959  5.935946e+06     53.847414     60.856736     25.254711   \n",
       "min         0.000000  0.000000e+00     -3.000000      1.000000      0.000000   \n",
       "25%     10613.000000  5.000000e+01      2.000000      4.000000      4.200000   \n",
       "50%     21226.000000  7.300000e+01      3.000000      5.000000      5.000000   \n",
       "75%     34132.250000  1.090000e+02      5.000000      6.000000      8.000000   \n",
       "max     62846.000000  9.071686e+08   9500.000000   9500.000000    999.000000   \n",
       "\n",
       "                gia        gia_m2  do_rong_duong  \n",
       "count  1.160610e+05  1.158190e+05   19052.000000  \n",
       "mean   2.480137e+08  4.732355e+06      14.835828  \n",
       "std    4.635162e+10  8.299879e+08      15.478882  \n",
       "min    0.000000e+00  0.000000e+00       0.000000  \n",
       "25%    2.560000e+03  3.281250e+01       5.000000  \n",
       "50%    5.850000e+03  9.000000e+01      10.000000  \n",
       "75%    1.680000e+04  2.200000e+02      20.000000  \n",
       "max    1.400000e+13  2.296000e+11     666.000000  "
      ]
     },
     "execution_count": 7,
     "metadata": {},
     "output_type": "execute_result"
    }
   ],
   "source": [
    "df.describe()"
   ]
  },
  {
   "cell_type": "code",
   "execution_count": 8,
   "id": "00c27308-96a1-4725-a9fc-ee64645b3774",
   "metadata": {},
   "outputs": [
    {
     "data": {
      "text/plain": [
       "Index(['Column1', 'dien_tich', 'huong_ban_cong', 'phong_ngu', 'ten_thanh_pho',\n",
       "       'ten_quan', 'so_tang', 'mat_tien', 'noi_that', 'huong_nha', 'so_do',\n",
       "       'gia', 'gia_m2', 'project_name', 'ten_duong', 'do_rong_duong',\n",
       "       'do_rong_duong_ml', 'ten_phuong', 'type'],\n",
       "      dtype='object')"
      ]
     },
     "execution_count": 8,
     "metadata": {},
     "output_type": "execute_result"
    }
   ],
   "source": [
    "df.columns"
   ]
  },
  {
   "cell_type": "markdown",
   "id": "47fc16bf-7ffa-44dc-ad76-06b916291962",
   "metadata": {},
   "source": [
    "## Drop duplicates row , missing values & rename columns"
   ]
  },
  {
   "cell_type": "code",
   "execution_count": 9,
   "id": "7bfc5f6a-9ab2-4c73-907a-9acd1e41dee4",
   "metadata": {},
   "outputs": [],
   "source": [
    "# Drop the duplicated rows\n",
    "df.drop_duplicates(inplace=True)"
   ]
  },
  {
   "cell_type": "code",
   "execution_count": 10,
   "id": "2868922f-31cb-4bf6-839c-9460464924d5",
   "metadata": {},
   "outputs": [
    {
     "data": {
      "text/plain": [
       "(127360, 19)"
      ]
     },
     "execution_count": 10,
     "metadata": {},
     "output_type": "execute_result"
    }
   ],
   "source": [
    "df.shape"
   ]
  },
  {
   "cell_type": "markdown",
   "id": "351e6328-44db-4037-9519-585d2865dc44",
   "metadata": {},
   "source": [
    "## Columns cleaning"
   ]
  },
  {
   "cell_type": "code",
   "execution_count": 11,
   "id": "d061f6df-7fda-42c8-85e0-f737976e1c55",
   "metadata": {},
   "outputs": [],
   "source": [
    "# Function to clean unique and dtype of a given column.\n",
    "def print_unique_dtype(column):\n",
    "  \"\"\"Print unique and dtype of a given column\"\"\"\n",
    "  \n",
    "  unique = df[column].value_counts().nunique()\n",
    "  dtype = df[column].dtype\n",
    "\n",
    "  print(f\"{unique} - {dtype}\")"
   ]
  },
  {
   "cell_type": "markdown",
   "id": "bb2f300c-0b1e-4806-b71c-c7e46d7786ed",
   "metadata": {},
   "source": [
    "### 'dien_tich'"
   ]
  },
  {
   "cell_type": "code",
   "execution_count": 12,
   "id": "e03bad89-edb3-4427-ba51-4a07be1f3907",
   "metadata": {},
   "outputs": [
    {
     "name": "stdout",
     "output_type": "stream",
     "text": [
      "219 - float64\n"
     ]
    },
    {
     "data": {
      "text/plain": [
       "50.0       6235\n",
       "60.0       4302\n",
       "70.0       3669\n",
       "40.0       3370\n",
       "100.0      3368\n",
       "           ... \n",
       "1772.0        1\n",
       "2002.0        1\n",
       "94.9          1\n",
       "11850.0       1\n",
       "2680.0        1\n",
       "Name: dien_tich, Length: 3055, dtype: int64"
      ]
     },
     "execution_count": 12,
     "metadata": {},
     "output_type": "execute_result"
    }
   ],
   "source": [
    "print_unique_dtype('dien_tich')\n",
    "df['dien_tich'].value_counts()"
   ]
  },
  {
   "cell_type": "code",
   "execution_count": 13,
   "id": "88129a6c-dc54-4216-b703-dbdd9fb0d605",
   "metadata": {},
   "outputs": [],
   "source": [
    "# delete data with empty area\n",
    "df = df.drop(df.loc[df['dien_tich'].isna()== True, :].index)"
   ]
  },
  {
   "cell_type": "code",
   "execution_count": 14,
   "id": "52eb2b11-606d-44b5-8ca5-b9f392c699fe",
   "metadata": {},
   "outputs": [],
   "source": [
    "df = df.loc[df['dien_tich'] < 300, :]"
   ]
  },
  {
   "cell_type": "markdown",
   "id": "c1fec7fb-3522-49be-988a-29fc545dd828",
   "metadata": {},
   "source": [
    "### 'huong_ban_cong'"
   ]
  },
  {
   "cell_type": "code",
   "execution_count": 15,
   "id": "c4e0c849-66a3-42a8-a154-ae28cac292d4",
   "metadata": {},
   "outputs": [
    {
     "name": "stdout",
     "output_type": "stream",
     "text": [
      "12 - object\n"
     ]
    },
    {
     "data": {
      "text/plain": [
       "Đông-Nam    3142\n",
       "Đông Nam    1609\n",
       "Đông-Bắc    1336\n",
       "Nam         1201\n",
       "Tây-Bắc     1179\n",
       "Tây-Nam     1085\n",
       "Đông Bắc     733\n",
       "Bắc          677\n",
       "Đông         533\n",
       "Tây Nam      496\n",
       "Tây Bắc      486\n",
       "Tây          364\n",
       "Name: huong_ban_cong, dtype: int64"
      ]
     },
     "execution_count": 15,
     "metadata": {},
     "output_type": "execute_result"
    }
   ],
   "source": [
    "print_unique_dtype('huong_ban_cong')\n",
    "df['huong_ban_cong'].value_counts()"
   ]
  },
  {
   "cell_type": "code",
   "execution_count": 16,
   "id": "384e4bb8-5b5e-4275-befe-58228c33707f",
   "metadata": {},
   "outputs": [],
   "source": [
    "df = df.replace({'huong_ban_cong': {np.nan: 'không xác định'}})"
   ]
  },
  {
   "cell_type": "markdown",
   "id": "fa7f0ef3-466e-43e3-990f-9707ba784efd",
   "metadata": {},
   "source": [
    "### 'ten_thanh_pho' "
   ]
  },
  {
   "cell_type": "code",
   "execution_count": 17,
   "id": "edec0fcd-b5d2-4c39-8376-00bbbfcefd3c",
   "metadata": {},
   "outputs": [
    {
     "name": "stdout",
     "output_type": "stream",
     "text": [
      "2 - object\n"
     ]
    },
    {
     "data": {
      "text/plain": [
       "Thành phố Hà Nội    116147\n",
       "Hà Nội                 333\n",
       "Name: ten_thanh_pho, dtype: int64"
      ]
     },
     "execution_count": 17,
     "metadata": {},
     "output_type": "execute_result"
    }
   ],
   "source": [
    "print_unique_dtype('ten_thanh_pho')\n",
    "df['ten_thanh_pho'].value_counts()"
   ]
  },
  {
   "cell_type": "code",
   "execution_count": 18,
   "id": "7c098f88-d905-4a59-bcab-2bcd5b2547df",
   "metadata": {},
   "outputs": [],
   "source": [
    "df = df.replace({'ten_thanh_pho': {'Hà Nội': 'Thành phố Hà Nội'}})"
   ]
  },
  {
   "cell_type": "markdown",
   "id": "219c09ba-4e31-48e3-a8b7-15479f636fd8",
   "metadata": {},
   "source": [
    "### 'ten_quan'"
   ]
  },
  {
   "cell_type": "code",
   "execution_count": 19,
   "id": "8ae5fded-cb9e-432e-aa71-c4d2755bb40b",
   "metadata": {},
   "outputs": [
    {
     "name": "stdout",
     "output_type": "stream",
     "text": [
      "42 - object\n"
     ]
    },
    {
     "data": {
      "text/plain": [
       "Quận Cầu Giấy        12081\n",
       "Quận Đống Đa         10955\n",
       "Quận Hà Đông         10829\n",
       "Quận Long Biên        9933\n",
       "Quận Nam Từ Liêm      9881\n",
       "Quận Thanh Xuân       8476\n",
       "Quận Hai Bà Trưng     8374\n",
       "Quận Tây Hồ           7449\n",
       "Quận Hoàng Mai        7354\n",
       "Quận Ba Đình          6824\n",
       "Quận Bắc Từ Liêm      5669\n",
       "Huyện Gia Lâm         3948\n",
       "Quận Hoàn Kiếm        2367\n",
       "Huyện Thanh Trì       2310\n",
       "Huyện Hoài Đức        2274\n",
       "Huyện Đông Anh        1780\n",
       "Huyện Thạch Thất      1334\n",
       "Huyện Quốc Oai         744\n",
       "Huyện Đan Phượng       707\n",
       "Huyện Sóc Sơn          682\n",
       "Huyện Chương Mỹ        535\n",
       "Huyện Thanh Oai        361\n",
       "Thị xã Sơn Tây         356\n",
       "Huyện Thường Tín       337\n",
       "Huyện Mê Linh          217\n",
       "Huyện Ba Vì            150\n",
       "Huyện Phúc Thọ         111\n",
       "Huyện Phú Xuyên         83\n",
       "Đống Đa                 68\n",
       "Thanh Xuân              40\n",
       "Ba Đình                 37\n",
       "Hà Đông                 31\n",
       "Cầu Giấy                28\n",
       "Tây Hồ                  28\n",
       "Long Biên               28\n",
       "Huyện Mỹ Đức            17\n",
       "Hoàng Mai               13\n",
       "Hai Bà Trưng            13\n",
       "Bắc Từ Liêm             11\n",
       "Nam Từ Liêm             10\n",
       "Huyện Ứng Hòa            8\n",
       "Thanh Trì                4\n",
       "Gia Lâm                  4\n",
       "Hoàn Kiếm                4\n",
       "Đan Phượng               3\n",
       "Thạch Thất               3\n",
       "Thường Tín               2\n",
       "Đông Anh                 1\n",
       "Hoài Đức                 1\n",
       "Quốc Oai                 1\n",
       "Ba Vì                    1\n",
       "Sóc Sơn                  1\n",
       "Phú Xuyên                1\n",
       "Name: ten_quan, dtype: int64"
      ]
     },
     "execution_count": 19,
     "metadata": {},
     "output_type": "execute_result"
    }
   ],
   "source": [
    "print_unique_dtype('ten_quan')\n",
    "df['ten_quan'].value_counts()"
   ]
  },
  {
   "cell_type": "code",
   "execution_count": 20,
   "id": "c4f7755a-2478-46eb-83eb-61f974df06b2",
   "metadata": {},
   "outputs": [],
   "source": [
    "df = df.drop(df.loc[df['ten_quan'].isna()== True, :].index)"
   ]
  },
  {
   "cell_type": "code",
   "execution_count": 21,
   "id": "b669cf7f-e11a-4ac5-949f-0d4561028d3b",
   "metadata": {},
   "outputs": [],
   "source": [
    "# replace data \n",
    "df = df.replace({'ten_quan': {'Ba Đình': 'Quận Ba Đình', 'Hà Đông': 'Quận Hà Đông', 'Ba Vì': 'Huyện Ba Vì', 'Đan Phượng': \"Huyện Đan Phượng\", 'Hoài Đức': \"Huyện Hoài Đức\",'Tây Hồ': 'Quận Tây Hồ', 'Long Biên': 'Quận Long Biên', 'Cầu Giấy': 'Quận Cầu Giấy', 'Đống Đa': 'Quận Đống Đa', 'Hai Bà Trưng': 'Quận Hai Bà Trưng', 'Hoàng Mai': 'Quận Hoàng Mai', 'Thanh Xuân': 'Quận Thanh Xuân', 'Đông Anh':'Huyện Đông Anh', 'Gia Lâm':'Huyện Gia Lâm',\n",
    "                              'Thanh Trì':'Huyện Thanh Trì', 'Bắc Từ Liêm': 'Quận Bắc Từ Liêm','Thường Tín':'Huyện Thường Tín', 'Hoàn Kiếm':'Quận Hoàn Kiếm', 'Nam Từ Liêm':'Quận Nam Từ Liêm',\n",
    "                             'Sơn Tây': 'Thị xã Sơn Tây', 'Quốc Oai': 'Huyện Quốc Oai', 'Thạch Thất': 'Huyện Thạch Thất', 'Sóc Sơn': 'Huyện Sóc Sơn', 'Phú Xuyên': 'Huyện Phú Xuyên'}})"
   ]
  },
  {
   "cell_type": "markdown",
   "id": "7a6716a7-bed8-4e9c-8a22-f2ee56f0d489",
   "metadata": {},
   "source": [
    "### 'so_tang'"
   ]
  },
  {
   "cell_type": "code",
   "execution_count": 22,
   "id": "ceccb1c6-8aee-4380-ac44-2c5cc03df92c",
   "metadata": {},
   "outputs": [
    {
     "name": "stdout",
     "output_type": "stream",
     "text": [
      "40 - float64\n"
     ]
    },
    {
     "data": {
      "text/plain": [
       "5.0      14057\n",
       "4.0       9303\n",
       "6.0       4973\n",
       "3.0       3956\n",
       "7.0       3777\n",
       "         ...  \n",
       "965.0        1\n",
       "354.0        1\n",
       "71.0         1\n",
       "51.0         1\n",
       "158.0        1\n",
       "Name: so_tang, Length: 61, dtype: int64"
      ]
     },
     "execution_count": 22,
     "metadata": {},
     "output_type": "execute_result"
    }
   ],
   "source": [
    "print_unique_dtype('so_tang')\n",
    "df['so_tang'].value_counts()"
   ]
  },
  {
   "cell_type": "code",
   "execution_count": 23,
   "id": "cc043ba8-272b-4370-a086-607e71e301dc",
   "metadata": {},
   "outputs": [],
   "source": [
    "df = df.replace({'so_tang': {np.nan : 0}})"
   ]
  },
  {
   "cell_type": "code",
   "execution_count": 24,
   "id": "e5d9fde8-edf2-492d-b687-5a5c70e2dd9d",
   "metadata": {},
   "outputs": [
    {
     "name": "stdout",
     "output_type": "stream",
     "text": [
      "total quanlity > 100 is:  12\n"
     ]
    }
   ],
   "source": [
    "print('total quanlity > 100 is: ', df.loc[df['so_tang'] > 100, :]['so_tang'].value_counts().sum())"
   ]
  },
  {
   "cell_type": "code",
   "execution_count": 25,
   "id": "376df93a-8812-48b1-8e96-1cb20ff5f0e0",
   "metadata": {},
   "outputs": [],
   "source": [
    "# convert data type 'Phong_ngu' and 'so_tang'\n",
    "df['so_tang'] = df['so_tang'].astype('int64')"
   ]
  },
  {
   "cell_type": "markdown",
   "id": "60b59b7a-06b7-4f9c-99cd-f1f81adf60c4",
   "metadata": {},
   "source": [
    "### 'mat_tien'"
   ]
  },
  {
   "cell_type": "code",
   "execution_count": 26,
   "id": "12dee5a3-85c5-4ecd-af09-4993dda7f6de",
   "metadata": {},
   "outputs": [
    {
     "name": "stdout",
     "output_type": "stream",
     "text": [
      "92 - float64\n"
     ]
    },
    {
     "data": {
      "text/plain": [
       "5.00     4371\n",
       "4.00     3704\n",
       "6.00     1973\n",
       "4.50     1540\n",
       "8.00     1154\n",
       "         ... \n",
       "11.77       1\n",
       "11.10       1\n",
       "5.34        1\n",
       "17.50       1\n",
       "5.24        1\n",
       "Name: mat_tien, Length: 634, dtype: int64"
      ]
     },
     "execution_count": 26,
     "metadata": {},
     "output_type": "execute_result"
    }
   ],
   "source": [
    "print_unique_dtype('mat_tien')\n",
    "df['mat_tien'].value_counts()"
   ]
  },
  {
   "cell_type": "code",
   "execution_count": 27,
   "id": "a9fba467-a5c8-4a66-b0d1-7e6e3465f7e7",
   "metadata": {},
   "outputs": [],
   "source": [
    "df = df.replace({'mat_tien': {np.nan: 0.0}})"
   ]
  },
  {
   "cell_type": "code",
   "execution_count": 28,
   "id": "bc66db25-a9d2-4be5-91dc-282f4b330368",
   "metadata": {},
   "outputs": [],
   "source": [
    "df = df.loc[df['mat_tien'] < 30, :]"
   ]
  },
  {
   "cell_type": "markdown",
   "id": "4edebd4e-1609-47bf-bc0a-51018dcdee1b",
   "metadata": {},
   "source": [
    "### 'noi_that'"
   ]
  },
  {
   "cell_type": "code",
   "execution_count": 29,
   "id": "3cf2a6ac-72a3-4a75-a994-589b2d69fcf4",
   "metadata": {},
   "outputs": [
    {
     "name": "stdout",
     "output_type": "stream",
     "text": [
      "72 - object\n"
     ]
    },
    {
     "data": {
      "text/plain": [
       "Nội thất đầy đủ                                                                                                                                                                                             1163\n",
       "Hoàn thiện cơ bản                                                                                                                                                                                            546\n",
       "Nội thất cao cấp                                                                                                                                                                                             510\n",
       "Full nội thất.                                                                                                                                                                                               453\n",
       "Đầy đủ                                                                                                                                                                                                       451\n",
       "                                                                                                                                                                                                            ... \n",
       "NGUYÊN BẢN CĐT                                                                                                                                                                                                 1\n",
       "Hệ thống đèn chiếu sáng sang trọng, điều hòa âm trần, sàn gỗ, tủ âm tường, bếp, tủ bếp và các thiết bị vệ sinh cao cấp...ngoài ra còn tặng lại cho chủ mới toàn bộ TV, tủ lạnh, máy giặt, máy rửa bát, g       1\n",
       "Hệ thống đèn chiếu sáng sang trọng, điều hòa âm trần, sàn gỗ, tủ âm tường, bếp, tủ bếp và các thiết bị vệ sinh cao cấp... Ngoài ra còn để lại TV, tủ lạnh, máy giặt, gường tủ... (Full đồ).                    1\n",
       "Full nội thất xịn sò gỗ an cường cùng thiết bị điện tử hiện đại                                                                                                                                                1\n",
       "Tặng bản thiết kế khách sạn 1 tầng hầm 5 tằng nổi,                                                                                                                                                             1\n",
       "Name: noi_that, Length: 6949, dtype: int64"
      ]
     },
     "execution_count": 29,
     "metadata": {},
     "output_type": "execute_result"
    }
   ],
   "source": [
    "print_unique_dtype('noi_that')\n",
    "df['noi_that'].value_counts()"
   ]
  },
  {
   "cell_type": "code",
   "execution_count": 30,
   "id": "0ec8e45e-9309-4858-b5af-2d856a34781d",
   "metadata": {},
   "outputs": [],
   "source": [
    "df = df.replace({'noi_that': {np.nan : 'không rõ'}})"
   ]
  },
  {
   "cell_type": "code",
   "execution_count": 31,
   "id": "ee7731b6-b378-4056-9a18-b090325e79a1",
   "metadata": {},
   "outputs": [],
   "source": [
    "df['noi_that'] = df['noi_that'].str.lower()"
   ]
  },
  {
   "cell_type": "markdown",
   "id": "6a3a6c2f-4018-4149-96a8-4fbef07f94a5",
   "metadata": {},
   "source": [
    "### 'huong_nha'"
   ]
  },
  {
   "cell_type": "code",
   "execution_count": 32,
   "id": "80a3ca61-3774-4d82-90c4-e7c4fa163cb1",
   "metadata": {},
   "outputs": [
    {
     "name": "stdout",
     "output_type": "stream",
     "text": [
      "13 - object\n"
     ]
    },
    {
     "data": {
      "text/plain": [
       "KXĐ         6427\n",
       "Đông-Nam    3028\n",
       "Tây-Bắc     2755\n",
       "Tây-Nam     1997\n",
       "Đông Nam    1981\n",
       "Nam         1952\n",
       "Đông-Bắc    1929\n",
       "Tây Bắc     1601\n",
       "Bắc         1601\n",
       "Đông        1324\n",
       "Đông Bắc    1253\n",
       "Tây         1243\n",
       "Tây Nam     1163\n",
       "Đông nam       4\n",
       "Name: huong_nha, dtype: int64"
      ]
     },
     "execution_count": 32,
     "metadata": {},
     "output_type": "execute_result"
    }
   ],
   "source": [
    "print_unique_dtype('huong_nha')\n",
    "df['huong_nha'].value_counts()"
   ]
  },
  {
   "cell_type": "code",
   "execution_count": 33,
   "id": "f8702df6-986c-4842-b740-e06922516c69",
   "metadata": {},
   "outputs": [],
   "source": [
    "df = df.replace({'huong_nha': {np.nan: 'không xác định'}})"
   ]
  },
  {
   "cell_type": "markdown",
   "id": "3e105798-514c-4298-8ad6-4f57ca124312",
   "metadata": {},
   "source": [
    "### 'so_do'"
   ]
  },
  {
   "cell_type": "code",
   "execution_count": 34,
   "id": "79715775-17f2-4eda-a4da-22db30eaff6f",
   "metadata": {},
   "outputs": [
    {
     "name": "stdout",
     "output_type": "stream",
     "text": [
      "72 - object\n"
     ]
    },
    {
     "data": {
      "text/plain": [
       "Sổ hồng/ Sổ đỏ                              29352\n",
       "Sổ đỏ                                        7554\n",
       "Đã có sổ                                     4490\n",
       "Sổ đỏ chính chủ                              2743\n",
       "Sổ đỏ.                                       2405\n",
       "                                            ...  \n",
       "Đã có sổ đỏ, sẵn sàng giao dich ngay.           1\n",
       "Sổ đỏ chính chủ đẹp, sẵn sàng giao dịch.        1\n",
       "Đã có sổ, cất két chờ giao dịch                 1\n",
       "Sổ đỏ sẵn giao dịch                             1\n",
       "Đã nộp tiền đầy đủ                              1\n",
       "Name: so_do, Length: 3046, dtype: int64"
      ]
     },
     "execution_count": 34,
     "metadata": {},
     "output_type": "execute_result"
    }
   ],
   "source": [
    "print_unique_dtype('so_do')\n",
    "df['so_do'].value_counts()"
   ]
  },
  {
   "cell_type": "code",
   "execution_count": 35,
   "id": "7d3ba5a3-6074-45b7-a0ef-e6ab65dfe522",
   "metadata": {},
   "outputs": [],
   "source": [
    "df = df.replace({'so_do': {np.nan: 'không có sổ'}})"
   ]
  },
  {
   "cell_type": "code",
   "execution_count": null,
   "id": "a71b8b07-f1c1-4a59-9af4-c21994f45123",
   "metadata": {},
   "outputs": [],
   "source": []
  },
  {
   "cell_type": "markdown",
   "id": "7e9210a0-80b4-4a41-a3e6-66122f58faab",
   "metadata": {},
   "source": [
    "### 'gia_m2'"
   ]
  },
  {
   "cell_type": "code",
   "execution_count": 36,
   "id": "b474a2bf-306a-4542-91b1-1adf0edc24b4",
   "metadata": {},
   "outputs": [
    {
     "name": "stdout",
     "output_type": "stream",
     "text": [
      "174 - float64\n"
     ]
    },
    {
     "data": {
      "text/plain": [
       "100.000000    881\n",
       "25.000000     619\n",
       "250.000000    564\n",
       "200.000000    564\n",
       "300.000000    536\n",
       "             ... \n",
       "421.348315      1\n",
       "451.111111      1\n",
       "450.735294      1\n",
       "443.243243      1\n",
       "9.305556        1\n",
       "Name: gia_m2, Length: 22972, dtype: int64"
      ]
     },
     "execution_count": 36,
     "metadata": {},
     "output_type": "execute_result"
    }
   ],
   "source": [
    "print_unique_dtype('gia_m2')\n",
    "df['gia_m2'].value_counts()"
   ]
  },
  {
   "cell_type": "code",
   "execution_count": 37,
   "id": "94d09aa6-264d-4fc4-aa26-5f2207b217c8",
   "metadata": {},
   "outputs": [],
   "source": [
    "df = df.drop(df.loc[df['gia_m2'].isna() == True, :].index)"
   ]
  },
  {
   "cell_type": "markdown",
   "id": "9f972a8f-2267-408a-a5ca-9c2f90c8c6fe",
   "metadata": {},
   "source": [
    "### 'gia'"
   ]
  },
  {
   "cell_type": "code",
   "execution_count": 38,
   "id": "d7712b7c-7e23-4ef5-82fe-f6f47fc7551a",
   "metadata": {},
   "outputs": [
    {
     "name": "stdout",
     "output_type": "stream",
     "text": [
      "268 - float64\n"
     ]
    },
    {
     "data": {
      "text/plain": [
       "3000.00     921\n",
       "5000.00     884\n",
       "2500.00     853\n",
       "600.00      750\n",
       "15000.00    743\n",
       "           ... \n",
       "44600.00      1\n",
       "8720.00       1\n",
       "13480.00      1\n",
       "5233.10       1\n",
       "554.48        1\n",
       "Name: gia, Length: 6143, dtype: int64"
      ]
     },
     "execution_count": 38,
     "metadata": {},
     "output_type": "execute_result"
    }
   ],
   "source": [
    "print_unique_dtype('gia')\n",
    "df['gia'].value_counts()"
   ]
  },
  {
   "cell_type": "code",
   "execution_count": 39,
   "id": "b6db9d38-53da-4962-a2cb-a68728fb8cf4",
   "metadata": {},
   "outputs": [],
   "source": [
    "# calculate product data 'gia' = 'dien_tich' * 'gia_m2'\n",
    "df['gia'] = df['dien_tich'] * df['gia_m2']"
   ]
  },
  {
   "cell_type": "code",
   "execution_count": 40,
   "id": "06786004-71ec-440b-b17b-7d515414f7a3",
   "metadata": {},
   "outputs": [],
   "source": [
    "df['gia'] = df['gia'].round(3)"
   ]
  },
  {
   "cell_type": "markdown",
   "id": "e8896093-2a62-40c4-87fc-2b010765cb48",
   "metadata": {},
   "source": [
    "### 'project_name'"
   ]
  },
  {
   "cell_type": "code",
   "execution_count": 41,
   "id": "3731bdc3-fe34-460d-99cd-c9ba7790d818",
   "metadata": {},
   "outputs": [
    {
     "name": "stdout",
     "output_type": "stream",
     "text": [
      "70 - object\n"
     ]
    },
    {
     "data": {
      "text/plain": [
       "Khu đô thị mới Cầu Giấy      364\n",
       "Goldmark City                337\n",
       "Golden Palace                248\n",
       "Tây Mỗ                       172\n",
       "Vinhomes Green Bay Mễ Trì    172\n",
       "                            ... \n",
       "Richland Southern              1\n",
       "Đông Đô                        1\n",
       "N05 Trần Duy Hưng              1\n",
       "N105 Nguyễn Phong Sắc          1\n",
       "Bắc Phú Cát                    1\n",
       "Name: project_name, Length: 314, dtype: int64"
      ]
     },
     "execution_count": 41,
     "metadata": {},
     "output_type": "execute_result"
    }
   ],
   "source": [
    "print_unique_dtype('project_name')\n",
    "df['project_name'].value_counts()"
   ]
  },
  {
   "cell_type": "code",
   "execution_count": 42,
   "id": "a22530b5-8abc-4906-82e1-dd4d87aef39c",
   "metadata": {},
   "outputs": [],
   "source": [
    "df = df.replace({'project_name': {np.nan : 'không có'}})"
   ]
  },
  {
   "cell_type": "markdown",
   "id": "aeed277b-99a0-4f43-9f7c-62f566e3c1f9",
   "metadata": {},
   "source": [
    "### 'ten_duong'"
   ]
  },
  {
   "cell_type": "code",
   "execution_count": 43,
   "id": "7d7de990-0cc1-4173-ba1e-a2180ad84f34",
   "metadata": {},
   "outputs": [
    {
     "name": "stdout",
     "output_type": "stream",
     "text": [
      "268 - object\n"
     ]
    },
    {
     "data": {
      "text/plain": [
       "Đường Hoàng Mai            2484\n",
       "Đường Long Biên            2199\n",
       "Đường Minh Khai            1390\n",
       "Đường Cầu Giấy             1140\n",
       "Đường Đại lộ Thăng Long    1093\n",
       "                           ... \n",
       "đường Đình Xuyên              1\n",
       "đường Cầu Đuống               1\n",
       "Đường Vạn Xuân                1\n",
       "Đường Trần Tế Xương           1\n",
       "Đường Số 1A                   1\n",
       "Name: ten_duong, Length: 1425, dtype: int64"
      ]
     },
     "execution_count": 43,
     "metadata": {},
     "output_type": "execute_result"
    }
   ],
   "source": [
    "print_unique_dtype('ten_duong')\n",
    "df['ten_duong'].value_counts()"
   ]
  },
  {
   "cell_type": "code",
   "execution_count": 44,
   "id": "0630c191-d5b5-4be6-9b7f-d51d8fa542f7",
   "metadata": {},
   "outputs": [],
   "source": [
    "df = df.replace({'ten_duong': {np.nan: 'không rõ'}})"
   ]
  },
  {
   "cell_type": "markdown",
   "id": "d0240d70-0c71-4396-98a5-1ae340825db8",
   "metadata": {},
   "source": [
    "### 'do_rong_duong'"
   ]
  },
  {
   "cell_type": "code",
   "execution_count": 45,
   "id": "9cf7a591-25b8-4321-a925-0ac1e4b15ee7",
   "metadata": {},
   "outputs": [
    {
     "name": "stdout",
     "output_type": "stream",
     "text": [
      "49 - float64\n"
     ]
    },
    {
     "data": {
      "text/plain": [
       "20.0     1453\n",
       "6.0      1341\n",
       "10.0     1333\n",
       "4.0      1169\n",
       "5.0      1138\n",
       "         ... \n",
       "19.5        1\n",
       "58.0        1\n",
       "666.0       1\n",
       "7.5         1\n",
       "312.0       1\n",
       "Name: do_rong_duong, Length: 92, dtype: int64"
      ]
     },
     "execution_count": 45,
     "metadata": {},
     "output_type": "execute_result"
    }
   ],
   "source": [
    "print_unique_dtype('do_rong_duong')\n",
    "df['do_rong_duong'].value_counts()"
   ]
  },
  {
   "cell_type": "code",
   "execution_count": 46,
   "id": "6712a42b-da04-4aa3-8877-0aa05a420ba5",
   "metadata": {},
   "outputs": [],
   "source": [
    "df = df.replace({'do_rong_duong': {np.nan: 0.0}})"
   ]
  },
  {
   "cell_type": "code",
   "execution_count": 47,
   "id": "50c75854-d58e-41a7-9733-d03f4ae37238",
   "metadata": {},
   "outputs": [],
   "source": [
    "df = df.loc[df['do_rong_duong'] < 100, :]"
   ]
  },
  {
   "cell_type": "markdown",
   "id": "322ca608-2c86-499d-b66a-103aa414994d",
   "metadata": {},
   "source": [
    "### 'do_rong_duong_ml'"
   ]
  },
  {
   "cell_type": "code",
   "execution_count": 48,
   "id": "dca58c04-4730-4df7-a441-053de5a46334",
   "metadata": {},
   "outputs": [
    {
     "name": "stdout",
     "output_type": "stream",
     "text": [
      "7 - object\n"
     ]
    },
    {
     "data": {
      "text/plain": [
       "Mặt phố - Mặt đường    45388\n",
       "Ngõ 1 ô tô              1766\n",
       "Ngõ 4 ô tô trở lên      1545\n",
       "Ngõ 2 ô tô tránh         879\n",
       "Ngõ 3 ô tô tránh         485\n",
       "Ngõ 4 ô tô tránh         355\n",
       "Ngõ ngách                279\n",
       "Name: do_rong_duong_ml, dtype: int64"
      ]
     },
     "execution_count": 48,
     "metadata": {},
     "output_type": "execute_result"
    }
   ],
   "source": [
    "print_unique_dtype('do_rong_duong_ml')\n",
    "df['do_rong_duong_ml'].value_counts()"
   ]
  },
  {
   "cell_type": "code",
   "execution_count": 49,
   "id": "95d02975-f88f-4300-bd17-2489315905c9",
   "metadata": {},
   "outputs": [],
   "source": [
    "df = df.replace({'do_rong_duong_ml': {np.nan : 'không rõ ml'}})"
   ]
  },
  {
   "cell_type": "markdown",
   "id": "9fcd2307-ce8c-4699-b091-f6c4dc82eb4b",
   "metadata": {},
   "source": [
    "### 'ten_phuong'"
   ]
  },
  {
   "cell_type": "code",
   "execution_count": 50,
   "id": "e4c4e731-4e87-46bd-98c8-7587aeb1626f",
   "metadata": {},
   "outputs": [
    {
     "name": "stdout",
     "output_type": "stream",
     "text": [
      "214 - object\n"
     ]
    },
    {
     "data": {
      "text/plain": [
       "Phường Long Biên    3529\n",
       "Phường Trung Hòa    1885\n",
       "Phường Mễ Trì       1636\n",
       "Phường Dịch Vọng    1511\n",
       "Phường Ô Chợ Dừa    1506\n",
       "                    ... \n",
       "Xã Hiền Giang          1\n",
       "Trung Văn              1\n",
       "Tứ Hiệp                1\n",
       "Xuân Tảo               1\n",
       "Xã Hoàng Long          1\n",
       "Name: ten_phuong, Length: 475, dtype: int64"
      ]
     },
     "execution_count": 50,
     "metadata": {},
     "output_type": "execute_result"
    }
   ],
   "source": [
    "print_unique_dtype('ten_phuong')\n",
    "df['ten_phuong'].value_counts()"
   ]
  },
  {
   "cell_type": "code",
   "execution_count": 51,
   "id": "3accc634-c197-4020-9eea-ce180245a3dd",
   "metadata": {},
   "outputs": [],
   "source": [
    "df = df.replace({'ten_phuong': {np.nan: 'không rõ'}})"
   ]
  },
  {
   "cell_type": "markdown",
   "id": "81895fb6-9dc1-45e7-bda0-642ea14a3d8c",
   "metadata": {},
   "source": [
    "### 'type'"
   ]
  },
  {
   "cell_type": "code",
   "execution_count": 52,
   "id": "dd188a30-8b25-4015-822c-a0004a1d0d86",
   "metadata": {},
   "outputs": [
    {
     "name": "stdout",
     "output_type": "stream",
     "text": [
      "3 - object\n"
     ]
    },
    {
     "data": {
      "text/plain": [
       "road surface    50140\n",
       "aparment        27820\n",
       "land            16412\n",
       "Name: type, dtype: int64"
      ]
     },
     "execution_count": 52,
     "metadata": {},
     "output_type": "execute_result"
    }
   ],
   "source": [
    "print_unique_dtype('type')\n",
    "df['type'].value_counts()"
   ]
  },
  {
   "cell_type": "markdown",
   "id": "4e8a94ca-9106-43a7-b26a-2460712abf29",
   "metadata": {},
   "source": [
    "# standardized data"
   ]
  },
  {
   "cell_type": "code",
   "execution_count": 53,
   "id": "e5d7fcd1-0a77-433b-b047-6b9e1051d8ad",
   "metadata": {},
   "outputs": [],
   "source": [
    "from sklearn.preprocessing import MinMaxScaler"
   ]
  },
  {
   "cell_type": "code",
   "execution_count": 54,
   "id": "615be77b-8dc4-463a-bf1f-197cdd5b0e40",
   "metadata": {},
   "outputs": [],
   "source": [
    "aparment = df.loc[df['type'] == 'aparment', : ]\n",
    "road_sunface = df.loc[df['type'] == 'road surface', : ]\n",
    "land = df.loc[df['type'] == 'land', :]"
   ]
  },
  {
   "cell_type": "markdown",
   "id": "57cfc4ec-cdd7-4ee9-9dc4-7ae688a9620e",
   "metadata": {
    "tags": []
   },
   "source": [
    "### 'phong_ngu'"
   ]
  },
  {
   "cell_type": "code",
   "execution_count": 55,
   "id": "a96111f5-f2b2-4521-b56f-e623c10765a2",
   "metadata": {},
   "outputs": [
    {
     "name": "stdout",
     "output_type": "stream",
     "text": [
      "6823\n",
      "15657\n",
      "19761\n"
     ]
    }
   ],
   "source": [
    "print(aparment['phong_ngu'].isna().sum())\n",
    "print(land['phong_ngu'].isna().sum())\n",
    "print(road_sunface['phong_ngu'].isna().sum())"
   ]
  },
  {
   "cell_type": "code",
   "execution_count": 56,
   "id": "1bc40e88-af7a-4f69-85a6-0d4b4c4ef7cd",
   "metadata": {},
   "outputs": [
    {
     "name": "stdout",
     "output_type": "stream",
     "text": [
      "0    2.0\n",
      "dtype: float64\n",
      "0    1.0\n",
      "dtype: float64\n",
      "0    4.0\n",
      "dtype: float64\n"
     ]
    }
   ],
   "source": [
    "print(aparment['phong_ngu'].mode())\n",
    "print(land['phong_ngu'].mode())\n",
    "print(road_sunface['phong_ngu'].mode())"
   ]
  },
  {
   "cell_type": "code",
   "execution_count": 57,
   "id": "54e695b1-97dd-4b39-afe0-079d6bd86fb6",
   "metadata": {},
   "outputs": [],
   "source": [
    "aparment = aparment.replace({'phong_ngu': {np.nan: 2.0}})\n",
    "land = land.replace({'phong_ngu': {np.nan: 1.0}})\n",
    "road_sunface = road_sunface.replace({'phong_ngu': {np.nan: 4.0}})"
   ]
  },
  {
   "cell_type": "code",
   "execution_count": 58,
   "id": "de4faa5a-ef4e-4b26-9ef2-e04c0c3ae080",
   "metadata": {},
   "outputs": [],
   "source": [
    "aparment['phong_ngu'] = aparment['phong_ngu'].astype('int64')\n",
    "land['phong_ngu'] = land['phong_ngu'].astype('int64')\n",
    "road_sunface['phong_ngu'] = road_sunface['phong_ngu'].astype('int64')"
   ]
  },
  {
   "cell_type": "markdown",
   "id": "d74d5092-8072-4849-b990-e1efb9521529",
   "metadata": {},
   "source": [
    "# plot chart check data outline"
   ]
  },
  {
   "cell_type": "code",
   "execution_count": 59,
   "id": "b872d5cc-e146-41aa-87dc-aeae20132316",
   "metadata": {},
   "outputs": [
    {
     "name": "stdout",
     "output_type": "stream",
     "text": [
      "(27820, 19)\n",
      "(50140, 19)\n",
      "(16412, 19)\n"
     ]
    }
   ],
   "source": [
    "print(aparment.shape)\n",
    "print(road_sunface.shape)\n",
    "print(land.shape)"
   ]
  },
  {
   "cell_type": "code",
   "execution_count": 60,
   "id": "e4012332-af9b-427a-b508-a85dd32bfacc",
   "metadata": {},
   "outputs": [
    {
     "name": "stderr",
     "output_type": "stream",
     "text": [
      "C:\\Users\\FPTSHOP\\anaconda3\\lib\\site-packages\\seaborn\\_decorators.py:36: FutureWarning: Pass the following variable as a keyword arg: x. From version 0.12, the only valid positional argument will be `data`, and passing other arguments without an explicit keyword will result in an error or misinterpretation.\n",
      "  warnings.warn(\n",
      "C:\\Users\\FPTSHOP\\anaconda3\\lib\\site-packages\\seaborn\\_decorators.py:36: FutureWarning: Pass the following variable as a keyword arg: x. From version 0.12, the only valid positional argument will be `data`, and passing other arguments without an explicit keyword will result in an error or misinterpretation.\n",
      "  warnings.warn(\n",
      "C:\\Users\\FPTSHOP\\anaconda3\\lib\\site-packages\\seaborn\\_decorators.py:36: FutureWarning: Pass the following variable as a keyword arg: x. From version 0.12, the only valid positional argument will be `data`, and passing other arguments without an explicit keyword will result in an error or misinterpretation.\n",
      "  warnings.warn(\n"
     ]
    },
    {
     "data": {
      "image/png": "[encoded data removed]",
      "text/plain": [
       "<Figure size 1080x360 with 3 Axes>"
      ]
     },
     "metadata": {
      "needs_background": "light"
     },
     "output_type": "display_data"
    }
   ],
   "source": [
    "plt.figure(figsize=(15,5))\n",
    "\n",
    "plt.subplot(1, 3, 1)\n",
    "plt.title(\"aparment\")\n",
    "sns.boxplot(aparment['gia'])\n",
    "\n",
    "plt.subplot(1, 3, 2)\n",
    "plt.title(\"land\")\n",
    "sns.boxplot(land['gia'])\n",
    "\n",
    "plt.subplot(1, 3, 3)\n",
    "plt.title(\"road sunFace\")\n",
    "sns.boxplot(road_sunface['gia'])\n",
    "plt.show()"
   ]
  },
  {
   "cell_type": "code",
   "execution_count": 61,
   "id": "e39ed7ed-9cac-4b5d-82e2-e111742fb9aa",
   "metadata": {},
   "outputs": [],
   "source": [
    "# tính giá trị Q1 và Q3\n",
    "def IQR(df):\n",
    "    Q1 = df.quantile(0.25)\n",
    "    Q3 = df.quantile(0.75)\n",
    "    IQR = Q3 - Q1\n",
    "    return IQR"
   ]
  },
  {
   "cell_type": "code",
   "execution_count": 62,
   "id": "d8eef678-8290-4a11-a088-ab13818ff2e2",
   "metadata": {},
   "outputs": [
    {
     "name": "stderr",
     "output_type": "stream",
     "text": [
      "C:\\Users\\FPTSHOP\\AppData\\Local\\Temp/ipykernel_17488/2060750798.py:4: FutureWarning: Automatic reindexing on DataFrame vs Series comparisons is deprecated and will raise ValueError in a future version.  Do `left, right = left.align(right, axis=1, copy=False)` before e.g. `left == right`\n",
      "  dfland = land[~((land < (Q1Land - 1.5 * IQR(land))) | (land > (Q3Land + 1.5 * IQR(land)))).any(axis=1)]\n",
      "C:\\Users\\FPTSHOP\\AppData\\Local\\Temp/ipykernel_17488/2060750798.py:8: FutureWarning: Automatic reindexing on DataFrame vs Series comparisons is deprecated and will raise ValueError in a future version.  Do `left, right = left.align(right, axis=1, copy=False)` before e.g. `left == right`\n",
      "  dfroad = road_sunface[~((road_sunface < (Q1road_sunface - 1.5 * IQR(road_sunface))) | (road_sunface > (Q3road_sunface + 1.5 * IQR(road_sunface)))).any(axis=1)]\n",
      "C:\\Users\\FPTSHOP\\AppData\\Local\\Temp/ipykernel_17488/2060750798.py:12: FutureWarning: Automatic reindexing on DataFrame vs Series comparisons is deprecated and will raise ValueError in a future version.  Do `left, right = left.align(right, axis=1, copy=False)` before e.g. `left == right`\n",
      "  dfaparment = aparment[~((aparment < (Q1aparment - 1.5 * IQR(aparment))) | (aparment > (Q3aparment + 1.5 * IQR(aparment)))).any(axis=1)]\n"
     ]
    }
   ],
   "source": [
    "# lọc dữ liệu ngoại lai land\n",
    "Q1Land = land.quantile(0.25)\n",
    "Q3Land = land.quantile(0.75)\n",
    "dfland = land[~((land < (Q1Land - 1.5 * IQR(land))) | (land > (Q3Land + 1.5 * IQR(land)))).any(axis=1)]\n",
    "# lọc dữ liệu ngoại lai land\n",
    "Q1road_sunface = road_sunface.quantile(0.25)\n",
    "Q3road_sunface = road_sunface.quantile(0.75)\n",
    "dfroad = road_sunface[~((road_sunface < (Q1road_sunface - 1.5 * IQR(road_sunface))) | (road_sunface > (Q3road_sunface + 1.5 * IQR(road_sunface)))).any(axis=1)]\n",
    "# lọc dữ liệu ngoại lai land\n",
    "Q1aparment = aparment.quantile(0.25)\n",
    "Q3aparment = aparment.quantile(0.75)\n",
    "dfaparment = aparment[~((aparment < (Q1aparment - 1.5 * IQR(aparment))) | (aparment > (Q3aparment + 1.5 * IQR(aparment)))).any(axis=1)]"
   ]
  },
  {
   "cell_type": "code",
   "execution_count": 63,
   "id": "cf573ff7-4396-4617-8e70-9a233eb8b2de",
   "metadata": {},
   "outputs": [
    {
     "name": "stderr",
     "output_type": "stream",
     "text": [
      "C:\\Users\\FPTSHOP\\anaconda3\\lib\\site-packages\\seaborn\\_decorators.py:36: FutureWarning: Pass the following variable as a keyword arg: x. From version 0.12, the only valid positional argument will be `data`, and passing other arguments without an explicit keyword will result in an error or misinterpretation.\n",
      "  warnings.warn(\n",
      "C:\\Users\\FPTSHOP\\anaconda3\\lib\\site-packages\\seaborn\\_decorators.py:36: FutureWarning: Pass the following variable as a keyword arg: x. From version 0.12, the only valid positional argument will be `data`, and passing other arguments without an explicit keyword will result in an error or misinterpretation.\n",
      "  warnings.warn(\n",
      "C:\\Users\\FPTSHOP\\anaconda3\\lib\\site-packages\\seaborn\\_decorators.py:36: FutureWarning: Pass the following variable as a keyword arg: x. From version 0.12, the only valid positional argument will be `data`, and passing other arguments without an explicit keyword will result in an error or misinterpretation.\n",
      "  warnings.warn(\n"
     ]
    },
    {
     "data": {
      "image/png": "[encoded data removed]",
      "text/plain": [
       "<Figure size 1080x360 with 3 Axes>"
      ]
     },
     "metadata": {
      "needs_background": "light"
     },
     "output_type": "display_data"
    }
   ],
   "source": [
    "plt.figure(figsize=(15,5))\n",
    "\n",
    "plt.subplot(1, 3, 1)\n",
    "plt.title(\"aparment\")\n",
    "sns.boxplot(dfaparment['gia'])\n",
    "\n",
    "plt.subplot(1, 3, 2)\n",
    "plt.title(\"land\")\n",
    "sns.boxplot(dfland['gia'])\n",
    "\n",
    "plt.subplot(1, 3, 3)\n",
    "plt.title(\"road sunFace\")\n",
    "sns.boxplot(dfroad['gia'])\n",
    "plt.show()"
   ]
  },
  {
   "cell_type": "code",
   "execution_count": 64,
   "id": "8bcd54c1-35e9-43fe-9ddb-45a04288f650",
   "metadata": {},
   "outputs": [
    {
     "name": "stdout",
     "output_type": "stream",
     "text": [
      "(23262, 19)\n",
      "(11480, 19)\n",
      "(27183, 19)\n"
     ]
    }
   ],
   "source": [
    "print(dfaparment.shape)\n",
    "print(dfland.shape)\n",
    "print(dfroad.shape)"
   ]
  },
  {
   "cell_type": "code",
   "execution_count": 65,
   "id": "2a83fb39-008f-4ab0-8fba-ff798de2bbef",
   "metadata": {},
   "outputs": [],
   "source": [
    "dfaparment = dfaparment.loc[dfaparment['gia'] < 6000, :]\n",
    "dfland = dfland.loc[dfland['gia'] < 8500, :]\n",
    "dfroad = dfroad.loc[dfroad['gia'] < 38000, :]"
   ]
  },
  {
   "cell_type": "code",
   "execution_count": 66,
   "id": "0b5651e3-ddce-4a3e-beec-f44b3762d6c7",
   "metadata": {},
   "outputs": [
    {
     "data": {
      "text/plain": [
       "<seaborn.axisgrid.FacetGrid at 0x1e6b4756070>"
      ]
     },
     "execution_count": 66,
     "metadata": {},
     "output_type": "execute_result"
    },
    {
     "data": {
      "image/png": "[encoded data removed]",
      "text/plain": [
       "<Figure size 360x360 with 1 Axes>"
      ]
     },
     "metadata": {
      "needs_background": "light"
     },
     "output_type": "display_data"
    },
    {
     "data": {
      "image/png": "[encoded data removed]",
      "text/plain": [
       "<Figure size 360x360 with 1 Axes>"
      ]
     },
     "metadata": {
      "needs_background": "light"
     },
     "output_type": "display_data"
    },
    {
     "data": {
      "image/png": "[encoded data removed]",
      "text/plain": [
       "<Figure size 360x360 with 1 Axes>"
      ]
     },
     "metadata": {
      "needs_background": "light"
     },
     "output_type": "display_data"
    }
   ],
   "source": [
    "\n",
    "sns.displot(data=dfaparment, x=\"gia\", kde=True)\n",
    "\n",
    "sns.displot(data=dfland, x=\"gia\", kde=True)\n",
    "\n",
    "sns.displot(data=dfroad, x=\"gia\", kde=True)\n"
   ]
  },
  {
   "cell_type": "code",
   "execution_count": 67,
   "id": "a7c4207e-2158-48cc-9d60-a5c6d309eb54",
   "metadata": {},
   "outputs": [
    {
     "data": {
      "image/png": "[encoded data removed]",
      "text/plain": [
       "<Figure size 1080x360 with 3 Axes>"
      ]
     },
     "metadata": {
      "needs_background": "light"
     },
     "output_type": "display_data"
    }
   ],
   "source": [
    "plt.figure(figsize=(15,5))\n",
    "\n",
    "plt.subplot(1, 3, 1)\n",
    "plt.title(\"aparment\")\n",
    "plt.scatter(dfaparment['dien_tich'],dfaparment['gia'])\n",
    "\n",
    "plt.subplot(1, 3, 2)\n",
    "plt.title(\"land\")\n",
    "plt.scatter(dfland['dien_tich'],dfland['gia'])\n",
    "\n",
    "plt.subplot(1, 3, 3)\n",
    "plt.title(\"road sunFace\")\n",
    "plt.scatter(dfroad['dien_tich'],dfroad['gia'])\n",
    "plt.show()"
   ]
  },
  {
   "cell_type": "code",
   "execution_count": 68,
   "id": "72664794-3341-436d-bdad-f8303096f299",
   "metadata": {},
   "outputs": [
    {
     "data": {
      "text/plain": [
       "<seaborn.axisgrid.FacetGrid at 0x1e6b5761610>"
      ]
     },
     "execution_count": 68,
     "metadata": {},
     "output_type": "execute_result"
    },
    {
     "data": {
      "image/png": "[encoded data removed]",
      "text/plain": [
       "<Figure size 360x360 with 1 Axes>"
      ]
     },
     "metadata": {
      "needs_background": "light"
     },
     "output_type": "display_data"
    },
    {
     "data": {
      "image/png": "[encoded data removed]",
      "text/plain": [
       "<Figure size 360x360 with 1 Axes>"
      ]
     },
     "metadata": {
      "needs_background": "light"
     },
     "output_type": "display_data"
    },
    {
     "data": {
      "image/png": "[encoded data removed]",
      "text/plain": [
       "<Figure size 360x360 with 1 Axes>"
      ]
     },
     "metadata": {
      "needs_background": "light"
     },
     "output_type": "display_data"
    }
   ],
   "source": [
    "\n",
    "sns.displot(data=dfaparment, x=\"phong_ngu\", kde=True)\n",
    "\n",
    "sns.displot(data=dfland, x=\"phong_ngu\", kde=True)\n",
    "\n",
    "sns.displot(data=dfroad, x=\"phong_ngu\", kde=True)"
   ]
  },
  {
   "cell_type": "code",
   "execution_count": 69,
   "id": "9cf72320-13cc-4e31-b0d9-7d96e9d6b726",
   "metadata": {},
   "outputs": [
    {
     "name": "stdout",
     "output_type": "stream",
     "text": [
      "[2 3 1 4]\n",
      "[1]\n",
      "[4 3 6 5]\n"
     ]
    }
   ],
   "source": [
    "print(dfaparment['phong_ngu'].unique())\n",
    "print(dfland['phong_ngu'].unique())\n",
    "print(dfroad['phong_ngu'].unique())"
   ]
  },
  {
   "cell_type": "markdown",
   "id": "067de4d8-56be-4c4a-bf41-eec4f730380c",
   "metadata": {},
   "source": [
    "## concat data"
   ]
  },
  {
   "cell_type": "code",
   "execution_count": 70,
   "id": "942f1f61-d45c-4fe9-ad52-cbb42b2a885a",
   "metadata": {},
   "outputs": [],
   "source": [
    "dfcenter = pd.concat([dfaparment, dfland, dfroad])"
   ]
  },
  {
   "cell_type": "code",
   "execution_count": 71,
   "id": "bc662e57-a1af-497a-8c93-0ae0c920e773",
   "metadata": {},
   "outputs": [
    {
     "data": {
      "text/plain": [
       "(59918, 19)"
      ]
     },
     "execution_count": 71,
     "metadata": {},
     "output_type": "execute_result"
    }
   ],
   "source": [
    "dfcenter.shape"
   ]
  },
  {
   "cell_type": "code",
   "execution_count": 72,
   "id": "313cc314-d29e-4790-91a5-55511c927765",
   "metadata": {},
   "outputs": [
    {
     "data": {
      "text/plain": [
       "37999.0"
      ]
     },
     "execution_count": 72,
     "metadata": {},
     "output_type": "execute_result"
    }
   ],
   "source": [
    "dfcenter['gia'].max()"
   ]
  },
  {
   "cell_type": "markdown",
   "id": "c1896990-f035-4beb-a375-f774931b6b6a",
   "metadata": {},
   "source": [
    "### 'customer_classification'"
   ]
  },
  {
   "cell_type": "code",
   "execution_count": 73,
   "id": "5456450e-15de-4de9-be44-916a8dad8a15",
   "metadata": {},
   "outputs": [],
   "source": [
    "dfcenter['customer_classification']  = pd.cut(x=dfcenter['gia'], bins = [0, 4000, 10000, 38000 ],\n",
    "                    labels=['tầm thấp', 'tầm trung', 'tầm cao'])"
   ]
  },
  {
   "cell_type": "code",
   "execution_count": 74,
   "id": "a0cea059-5b53-4a39-b5b3-0d3dceb6d6d5",
   "metadata": {},
   "outputs": [
    {
     "data": {
      "text/plain": [
       "tầm thấp     32675\n",
       "tầm trung    14169\n",
       "tầm cao      13072\n",
       "Name: customer_classification, dtype: int64"
      ]
     },
     "execution_count": 74,
     "metadata": {},
     "output_type": "execute_result"
    }
   ],
   "source": [
    "\n",
    "dfcenter['customer_classification'].value_counts()"
   ]
  },
  {
   "cell_type": "code",
   "execution_count": 75,
   "id": "9ada0b27-8bba-4870-b15b-e5c8fe7198d3",
   "metadata": {},
   "outputs": [],
   "source": [
    "# delete 'customer_classification' is empty\n",
    "dfcenter = dfcenter.drop(dfcenter.loc[dfcenter['customer_classification'].isna()== True, :].index)"
   ]
  },
  {
   "cell_type": "code",
   "execution_count": 76,
   "id": "4e299a67-615e-49a4-bc37-ef30a9ee54c2",
   "metadata": {},
   "outputs": [],
   "source": [
    "dfcenter['customer_classification'] = dfcenter['customer_classification'].astype('object')"
   ]
  },
  {
   "cell_type": "markdown",
   "id": "15c8fbfd-d84b-4ed0-ad02-11a0144b2f81",
   "metadata": {},
   "source": [
    "### 'tinh_trang_noi_that'"
   ]
  },
  {
   "cell_type": "code",
   "execution_count": 77,
   "id": "4af079a6-5a77-4717-ac1a-bc4b26dc74bb",
   "metadata": {},
   "outputs": [],
   "source": [
    "cat_cols = list(dfcenter['noi_that'].unique())\n",
    "dfcenter['tinh_trang_noi_that'] = dfcenter['noi_that'].astype(\"category\").cat.codes"
   ]
  },
  {
   "cell_type": "code",
   "execution_count": 78,
   "id": "c5538e69-a5a7-460f-9ab8-4ddec5d6f577",
   "metadata": {},
   "outputs": [],
   "source": [
    "# basic\n",
    "idxNoi_that_co_ban = dfcenter['noi_that'].str.contains(r'cơ bản| thô ', flags=re.IGNORECASE, regex=True, na=False)\n",
    "tinh_trang_co_ban = dfcenter.loc[idxNoi_that_co_ban == True, ['noi_that', 'tinh_trang_noi_that']] \n",
    "tinh_trang_co_ban = list(tinh_trang_co_ban['tinh_trang_noi_that'].unique())\n",
    "dfcenter['tinh_trang_noi_that'] = dfcenter['tinh_trang_noi_that'].replace(to_replace = tinh_trang_co_ban, value = 'cơ bản')\n",
    "# unknow\n",
    "dfcenter['tinh_trang_noi_that'] = dfcenter['tinh_trang_noi_that'].replace(to_replace = 2596, value = 'không rõ')\n",
    "# Luxury interior\n",
    "idxNoi_that_da_co_san = dfcenter.loc[(dfcenter['tinh_trang_noi_that'] != 'không rõ') & (dfcenter['tinh_trang_noi_that'] != 'cơ bản'), ['noi_that', 'tinh_trang_noi_that']]\n",
    "idxNoi_that_da_co_san = list(idxNoi_that_da_co_san['tinh_trang_noi_that'].unique())\n",
    "dfcenter['tinh_trang_noi_that'] = dfcenter['tinh_trang_noi_that'].replace(to_replace = idxNoi_that_da_co_san, value = 'nội thất cao cấp')"
   ]
  },
  {
   "cell_type": "code",
   "execution_count": 79,
   "id": "d2b7fcab-d702-456b-8f3c-ef51c3008aa4",
   "metadata": {},
   "outputs": [],
   "source": [
    "dfcenter['tinh_trang_noi_that'] = dfcenter['tinh_trang_noi_that'].astype('object')"
   ]
  },
  {
   "cell_type": "markdown",
   "id": "7582ca98-725e-4982-958b-63b8400fb40a",
   "metadata": {},
   "source": [
    "# save dataset"
   ]
  },
  {
   "cell_type": "code",
   "execution_count": 82,
   "id": "039e3fc3-404f-41b1-a319-9ead16aba3b3",
   "metadata": {},
   "outputs": [
    {
     "data": {
      "text/plain": [
       "(59914, 21)"
      ]
     },
     "execution_count": 82,
     "metadata": {},
     "output_type": "execute_result"
    }
   ],
   "source": [
    "dfcenter.shape"
   ]
  },
  {
   "cell_type": "code",
   "execution_count": 83,
   "id": "7b342e1e-2a58-4e1c-a5ea-f100b434cd49",
   "metadata": {},
   "outputs": [],
   "source": [
    "dfcenter.to_csv(\"dataset.csv\")"
   ]
  },
  {
   "cell_type": "code",
   "execution_count": null,
   "id": "49ec8b88-cd97-4596-a880-98ca73ffff9f",
   "metadata": {},
   "outputs": [],
   "source": []
  }
 ],
 "metadata": {
  "kernelspec": {
   "display_name": "Python 3 (ipykernel)",
   "language": "python",
   "name": "python3"
  },
  "language_info": {
   "codemirror_mode": {
    "name": "ipython",
    "version": 3
   },
   "file_extension": ".py",
   "mimetype": "text/x-python",
   "name": "python",
   "nbconvert_exporter": "python",
   "pygments_lexer": "ipython3",
   "version": "3.9.7"
  }
 },
 "nbformat": 4,
 "nbformat_minor": 5
}
