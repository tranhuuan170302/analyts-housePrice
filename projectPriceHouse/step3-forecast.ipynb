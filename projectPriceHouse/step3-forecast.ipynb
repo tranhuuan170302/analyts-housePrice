{
 "cells": [
  {
   "cell_type": "code",
   "execution_count": 1,
   "id": "5b732988-5d72-4e96-aa2d-3e1737e80155",
   "metadata": {},
   "outputs": [],
   "source": [
    "import pandas as pd\n",
    "import numpy as np\n",
    "\n",
    "import matplotlib.pyplot as plt\n",
    "import seaborn as sns\n",
    "sns.set(color_codes=True)\n",
    "\n",
    "from sklearn.preprocessing import OneHotEncoder\n",
    "from sklearn.model_selection import train_test_split as tts\n",
    "\n",
    "%matplotlib inline"
   ]
  },
  {
   "cell_type": "markdown",
   "id": "b6e20413-90f8-4dcc-945e-8cbdfc9972b5",
   "metadata": {},
   "source": [
    "# Data overview"
   ]
  },
  {
   "cell_type": "code",
   "execution_count": 2,
   "id": "aa9a4644-ed8d-46cf-ba16-a46362de4506",
   "metadata": {},
   "outputs": [],
   "source": [
    "df = pd.read_csv('dataset.csv')"
   ]
  },
  {
   "cell_type": "code",
   "execution_count": 3,
   "id": "3ce66bdf-e547-4c94-8498-95fe1e62f696",
   "metadata": {},
   "outputs": [
    {
     "name": "stdout",
     "output_type": "stream",
     "text": [
      "<class 'pandas.core.frame.DataFrame'>\n",
      "RangeIndex: 59914 entries, 0 to 59913\n",
      "Data columns (total 22 columns):\n",
      " #   Column                   Non-Null Count  Dtype  \n",
      "---  ------                   --------------  -----  \n",
      " 0   Unnamed: 0               59914 non-null  int64  \n",
      " 1   Column1                  59914 non-null  int64  \n",
      " 2   dien_tich                59914 non-null  float64\n",
      " 3   huong_ban_cong           59914 non-null  object \n",
      " 4   phong_ngu                59914 non-null  int64  \n",
      " 5   ten_thanh_pho            59914 non-null  object \n",
      " 6   ten_quan                 59914 non-null  object \n",
      " 7   so_tang                  59914 non-null  int64  \n",
      " 8   mat_tien                 59914 non-null  float64\n",
      " 9   noi_that                 59914 non-null  object \n",
      " 10  huong_nha                59914 non-null  object \n",
      " 11  so_do                    59914 non-null  object \n",
      " 12  gia                      59914 non-null  float64\n",
      " 13  gia_m2                   59914 non-null  float64\n",
      " 14  project_name             59914 non-null  object \n",
      " 15  ten_duong                59914 non-null  object \n",
      " 16  do_rong_duong            59914 non-null  float64\n",
      " 17  do_rong_duong_ml         59914 non-null  object \n",
      " 18  ten_phuong               59914 non-null  object \n",
      " 19  type                     59914 non-null  object \n",
      " 20  customer_classification  59914 non-null  object \n",
      " 21  tinh_trang_noi_that      59914 non-null  object \n",
      "dtypes: float64(5), int64(4), object(13)\n",
      "memory usage: 10.1+ MB\n"
     ]
    }
   ],
   "source": [
    "df.info()"
   ]
  },
  {
   "cell_type": "code",
   "execution_count": 4,
   "id": "adb6ce2b-219f-4e2f-a148-868910fda563",
   "metadata": {},
   "outputs": [
    {
     "data": {
      "text/html": [
       "<div>\n",
       "<style scoped>\n",
       "    .dataframe tbody tr th:only-of-type {\n",
       "        vertical-align: middle;\n",
       "    }\n",
       "\n",
       "    .dataframe tbody tr th {\n",
       "        vertical-align: top;\n",
       "    }\n",
       "\n",
       "    .dataframe thead th {\n",
       "        text-align: right;\n",
       "    }\n",
       "</style>\n",
       "<table border=\"1\" class=\"dataframe\">\n",
       "  <thead>\n",
       "    <tr style=\"text-align: right;\">\n",
       "      <th></th>\n",
       "      <th>Unnamed: 0</th>\n",
       "      <th>Column1</th>\n",
       "      <th>dien_tich</th>\n",
       "      <th>huong_ban_cong</th>\n",
       "      <th>phong_ngu</th>\n",
       "      <th>ten_thanh_pho</th>\n",
       "      <th>ten_quan</th>\n",
       "      <th>so_tang</th>\n",
       "      <th>mat_tien</th>\n",
       "      <th>noi_that</th>\n",
       "      <th>...</th>\n",
       "      <th>gia</th>\n",
       "      <th>gia_m2</th>\n",
       "      <th>project_name</th>\n",
       "      <th>ten_duong</th>\n",
       "      <th>do_rong_duong</th>\n",
       "      <th>do_rong_duong_ml</th>\n",
       "      <th>ten_phuong</th>\n",
       "      <th>type</th>\n",
       "      <th>customer_classification</th>\n",
       "      <th>tinh_trang_noi_that</th>\n",
       "    </tr>\n",
       "  </thead>\n",
       "  <tbody>\n",
       "    <tr>\n",
       "      <th>0</th>\n",
       "      <td>6</td>\n",
       "      <td>6</td>\n",
       "      <td>48.0</td>\n",
       "      <td>không xác định</td>\n",
       "      <td>2</td>\n",
       "      <td>Thành phố Hà Nội</td>\n",
       "      <td>Quận Ba Đình</td>\n",
       "      <td>0</td>\n",
       "      <td>0.0</td>\n",
       "      <td>nội thất cao cấp</td>\n",
       "      <td>...</td>\n",
       "      <td>990.0</td>\n",
       "      <td>20.625000</td>\n",
       "      <td>không có</td>\n",
       "      <td>Đường Vĩnh Phúc</td>\n",
       "      <td>0.0</td>\n",
       "      <td>không rõ ml</td>\n",
       "      <td>Phường Vĩnh Phúc</td>\n",
       "      <td>aparment</td>\n",
       "      <td>tầm thấp</td>\n",
       "      <td>nội thất cao cấp</td>\n",
       "    </tr>\n",
       "    <tr>\n",
       "      <th>1</th>\n",
       "      <td>11</td>\n",
       "      <td>11</td>\n",
       "      <td>50.0</td>\n",
       "      <td>không xác định</td>\n",
       "      <td>2</td>\n",
       "      <td>Thành phố Hà Nội</td>\n",
       "      <td>Quận Ba Đình</td>\n",
       "      <td>0</td>\n",
       "      <td>0.0</td>\n",
       "      <td>không rõ</td>\n",
       "      <td>...</td>\n",
       "      <td>530.0</td>\n",
       "      <td>10.600000</td>\n",
       "      <td>không có</td>\n",
       "      <td>Phố Liễu Giai</td>\n",
       "      <td>0.0</td>\n",
       "      <td>không rõ ml</td>\n",
       "      <td>Phường Liễu Giai</td>\n",
       "      <td>aparment</td>\n",
       "      <td>tầm thấp</td>\n",
       "      <td>nội thất cao cấp</td>\n",
       "    </tr>\n",
       "    <tr>\n",
       "      <th>2</th>\n",
       "      <td>18</td>\n",
       "      <td>18</td>\n",
       "      <td>52.0</td>\n",
       "      <td>không xác định</td>\n",
       "      <td>2</td>\n",
       "      <td>Thành phố Hà Nội</td>\n",
       "      <td>Quận Ba Đình</td>\n",
       "      <td>0</td>\n",
       "      <td>0.0</td>\n",
       "      <td>không rõ</td>\n",
       "      <td>...</td>\n",
       "      <td>1100.0</td>\n",
       "      <td>21.153846</td>\n",
       "      <td>không có</td>\n",
       "      <td>Phố Liễu Giai</td>\n",
       "      <td>0.0</td>\n",
       "      <td>không rõ ml</td>\n",
       "      <td>Phường Liễu Giai</td>\n",
       "      <td>aparment</td>\n",
       "      <td>tầm thấp</td>\n",
       "      <td>nội thất cao cấp</td>\n",
       "    </tr>\n",
       "    <tr>\n",
       "      <th>3</th>\n",
       "      <td>30</td>\n",
       "      <td>30</td>\n",
       "      <td>48.0</td>\n",
       "      <td>không xác định</td>\n",
       "      <td>2</td>\n",
       "      <td>Thành phố Hà Nội</td>\n",
       "      <td>Quận Ba Đình</td>\n",
       "      <td>0</td>\n",
       "      <td>0.0</td>\n",
       "      <td>không rõ</td>\n",
       "      <td>...</td>\n",
       "      <td>520.0</td>\n",
       "      <td>10.833333</td>\n",
       "      <td>không có</td>\n",
       "      <td>Đường Đội Cấn</td>\n",
       "      <td>0.0</td>\n",
       "      <td>không rõ ml</td>\n",
       "      <td>Phường Đội Cấn</td>\n",
       "      <td>aparment</td>\n",
       "      <td>tầm thấp</td>\n",
       "      <td>nội thất cao cấp</td>\n",
       "    </tr>\n",
       "    <tr>\n",
       "      <th>4</th>\n",
       "      <td>32</td>\n",
       "      <td>32</td>\n",
       "      <td>48.0</td>\n",
       "      <td>không xác định</td>\n",
       "      <td>2</td>\n",
       "      <td>Thành phố Hà Nội</td>\n",
       "      <td>Quận Ba Đình</td>\n",
       "      <td>0</td>\n",
       "      <td>0.0</td>\n",
       "      <td>không rõ</td>\n",
       "      <td>...</td>\n",
       "      <td>520.0</td>\n",
       "      <td>10.833333</td>\n",
       "      <td>không có</td>\n",
       "      <td>Đường Đội Cấn</td>\n",
       "      <td>0.0</td>\n",
       "      <td>không rõ ml</td>\n",
       "      <td>Phường Đội Cấn</td>\n",
       "      <td>aparment</td>\n",
       "      <td>tầm thấp</td>\n",
       "      <td>nội thất cao cấp</td>\n",
       "    </tr>\n",
       "  </tbody>\n",
       "</table>\n",
       "<p>5 rows × 22 columns</p>\n",
       "</div>"
      ],
      "text/plain": [
       "   Unnamed: 0  Column1  dien_tich  huong_ban_cong  phong_ngu  \\\n",
       "0           6        6       48.0  không xác định          2   \n",
       "1          11       11       50.0  không xác định          2   \n",
       "2          18       18       52.0  không xác định          2   \n",
       "3          30       30       48.0  không xác định          2   \n",
       "4          32       32       48.0  không xác định          2   \n",
       "\n",
       "      ten_thanh_pho      ten_quan  so_tang  mat_tien          noi_that  ...  \\\n",
       "0  Thành phố Hà Nội  Quận Ba Đình        0       0.0  nội thất cao cấp  ...   \n",
       "1  Thành phố Hà Nội  Quận Ba Đình        0       0.0          không rõ  ...   \n",
       "2  Thành phố Hà Nội  Quận Ba Đình        0       0.0          không rõ  ...   \n",
       "3  Thành phố Hà Nội  Quận Ba Đình        0       0.0          không rõ  ...   \n",
       "4  Thành phố Hà Nội  Quận Ba Đình        0       0.0          không rõ  ...   \n",
       "\n",
       "      gia     gia_m2  project_name        ten_duong do_rong_duong  \\\n",
       "0   990.0  20.625000      không có  Đường Vĩnh Phúc           0.0   \n",
       "1   530.0  10.600000      không có    Phố Liễu Giai           0.0   \n",
       "2  1100.0  21.153846      không có    Phố Liễu Giai           0.0   \n",
       "3   520.0  10.833333      không có    Đường Đội Cấn           0.0   \n",
       "4   520.0  10.833333      không có    Đường Đội Cấn           0.0   \n",
       "\n",
       "  do_rong_duong_ml        ten_phuong      type customer_classification  \\\n",
       "0      không rõ ml  Phường Vĩnh Phúc  aparment                tầm thấp   \n",
       "1      không rõ ml  Phường Liễu Giai  aparment                tầm thấp   \n",
       "2      không rõ ml  Phường Liễu Giai  aparment                tầm thấp   \n",
       "3      không rõ ml    Phường Đội Cấn  aparment                tầm thấp   \n",
       "4      không rõ ml    Phường Đội Cấn  aparment                tầm thấp   \n",
       "\n",
       "  tinh_trang_noi_that  \n",
       "0    nội thất cao cấp  \n",
       "1    nội thất cao cấp  \n",
       "2    nội thất cao cấp  \n",
       "3    nội thất cao cấp  \n",
       "4    nội thất cao cấp  \n",
       "\n",
       "[5 rows x 22 columns]"
      ]
     },
     "execution_count": 4,
     "metadata": {},
     "output_type": "execute_result"
    }
   ],
   "source": [
    "df.head()"
   ]
  },
  {
   "cell_type": "markdown",
   "id": "b0d46eff-17cf-47d7-85ce-eeaae75a6d78",
   "metadata": {},
   "source": [
    "## classification 'so_do'"
   ]
  },
  {
   "cell_type": "code",
   "execution_count": 5,
   "id": "ea979b1b-acd9-402d-975b-4a8d3f4d1816",
   "metadata": {},
   "outputs": [],
   "source": [
    "df['so_do'] = df['so_do'].str.lower()"
   ]
  },
  {
   "cell_type": "code",
   "execution_count": 6,
   "id": "ae36881b-10cf-4be0-b0f9-e49fda08b795",
   "metadata": {},
   "outputs": [],
   "source": [
    "df['tinh_trang_so_do'] = df['so_do'].astype(\"category\").cat.codes"
   ]
  },
  {
   "cell_type": "code",
   "execution_count": 7,
   "id": "77ccb514-bb40-44d6-a4de-78b7f0702412",
   "metadata": {},
   "outputs": [],
   "source": [
    "import re"
   ]
  },
  {
   "cell_type": "code",
   "execution_count": 8,
   "id": "8334a39e-6cec-4b49-8d0a-fd6d29075fb7",
   "metadata": {},
   "outputs": [],
   "source": [
    "idxkoCoSo = df['so_do'].str.contains(r'không có', flags=re.IGNORECASE, regex=True, na=False)\n",
    "idxkoCoSo = df.loc[idxkoCoSo == True, ['so_do', 'tinh_trang_so_do']]\n",
    "idxkoCoSo = list(idxkoCoSo['tinh_trang_so_do'].unique())\n",
    "df['tinh_trang_so_do'] = df['tinh_trang_so_do'].replace(to_replace = idxkoCoSo, value = 'không có sổ')"
   ]
  },
  {
   "cell_type": "code",
   "execution_count": 9,
   "id": "697065f2-804f-481f-ab7e-36e16e6ffc3d",
   "metadata": {},
   "outputs": [],
   "source": [
    "idxCoso = df.loc[df['tinh_trang_so_do'] != 'không có sổ', ['so_do', 'tinh_trang_so_do']]\n",
    "idxCoso = list(idxCoso['tinh_trang_so_do'].unique())\n",
    "df['tinh_trang_so_do'] = df['tinh_trang_so_do'].replace(to_replace = idxCoso, value = 'có sổ')"
   ]
  },
  {
   "cell_type": "markdown",
   "id": "d239425e-9ae0-43e2-93c5-28fb414debca",
   "metadata": {},
   "source": [
    "# linearRegerssion"
   ]
  },
  {
   "cell_type": "code",
   "execution_count": 130,
   "id": "83948c7b-c21a-48bd-8f5e-d0d80c834c69",
   "metadata": {},
   "outputs": [],
   "source": [
    "forecast = df[['dien_tich', 'phong_ngu', 'gia', 'ten_quan', 'type', 'customer_classification', 'tinh_trang_noi_that', 'tinh_trang_so_do']]"
   ]
  },
  {
   "cell_type": "code",
   "execution_count": 131,
   "id": "275742dd-1553-47fa-8da4-2864101ce78b",
   "metadata": {},
   "outputs": [
    {
     "name": "stderr",
     "output_type": "stream",
     "text": [
      "C:\\Users\\FPTSHOP\\anaconda3\\lib\\site-packages\\pandas\\core\\frame.py:5238: SettingWithCopyWarning: \n",
      "A value is trying to be set on a copy of a slice from a DataFrame\n",
      "\n",
      "See the caveats in the documentation: https://pandas.pydata.org/pandas-docs/stable/user_guide/indexing.html#returning-a-view-versus-a-copy\n",
      "  return super().replace(\n"
     ]
    }
   ],
   "source": [
    "customer_classification = {\n",
    "    'tầm thấp': 1,\n",
    "    'tầm trung': 2,\n",
    "    'tầm cao' : 3\n",
    "}\n",
    "types = {\n",
    "    'aparment': 1,\n",
    "    'land': 2,\n",
    "    'road surface': 3\n",
    "}\n",
    "\n",
    "so_do = {\n",
    "    'có sổ' : 1,\n",
    "    'không có sổ': 2\n",
    "}\n",
    "noi_that = {\n",
    "    'cơ bản': 1,\n",
    "    'nội thất cao cấp': 2\n",
    "}\n",
    "for i in [customer_classification, types, so_do, noi_that]:\n",
    "    forecast.replace(i,inplace=True)"
   ]
  },
  {
   "cell_type": "code",
   "execution_count": 132,
   "id": "afc534db-0cfe-4d3e-9642-36b5273a8247",
   "metadata": {},
   "outputs": [
    {
     "data": {
      "text/plain": [
       "array([1, 2, 3], dtype=int64)"
      ]
     },
     "execution_count": 132,
     "metadata": {},
     "output_type": "execute_result"
    }
   ],
   "source": [
    "forecast['customer_classification'].unique()"
   ]
  },
  {
   "cell_type": "code",
   "execution_count": 133,
   "id": "f155e687-e5a6-44a8-ab93-b11fab28bfd9",
   "metadata": {},
   "outputs": [
    {
     "name": "stdout",
     "output_type": "stream",
     "text": [
      "<class 'pandas.core.frame.DataFrame'>\n",
      "RangeIndex: 59914 entries, 0 to 59913\n",
      "Data columns (total 8 columns):\n",
      " #   Column                   Non-Null Count  Dtype  \n",
      "---  ------                   --------------  -----  \n",
      " 0   dien_tich                59914 non-null  float64\n",
      " 1   phong_ngu                59914 non-null  int64  \n",
      " 2   gia                      59914 non-null  float64\n",
      " 3   ten_quan                 59914 non-null  object \n",
      " 4   type                     59914 non-null  int64  \n",
      " 5   customer_classification  59914 non-null  int64  \n",
      " 6   tinh_trang_noi_that      59914 non-null  int64  \n",
      " 7   tinh_trang_so_do         59914 non-null  int64  \n",
      "dtypes: float64(2), int64(5), object(1)\n",
      "memory usage: 3.7+ MB\n"
     ]
    }
   ],
   "source": [
    "forecast.info()"
   ]
  },
  {
   "cell_type": "code",
   "execution_count": 134,
   "id": "4a586027-46cd-41f3-953b-54a2ef213337",
   "metadata": {},
   "outputs": [],
   "source": [
    "def dummies(x, df):\n",
    "    temp = pd.get_dummies(df[x], drop_first = True)\n",
    "    df = pd.concat([df, temp], axis = 1)\n",
    "    df.drop([x], axis = 1, inplace= True )\n",
    "    return df"
   ]
  },
  {
   "cell_type": "code",
   "execution_count": 135,
   "id": "43cefb32-351e-499e-afe8-96022f7cf58f",
   "metadata": {},
   "outputs": [],
   "source": [
    "forecast = dummies('ten_quan', forecast)"
   ]
  },
  {
   "cell_type": "code",
   "execution_count": 136,
   "id": "d0af0064-6a54-4567-b2b2-a442c30431d1",
   "metadata": {},
   "outputs": [],
   "source": [
    "from sklearn.linear_model import LinearRegression\n",
    "from sklearn.model_selection import train_test_split"
   ]
  },
  {
   "cell_type": "code",
   "execution_count": 137,
   "id": "80dcf6d7-d7ea-45c4-b9fc-42bc78f4ca7f",
   "metadata": {},
   "outputs": [],
   "source": [
    "x=  forecast.drop('gia', axis = 1)\n",
    "y = forecast['gia']"
   ]
  },
  {
   "cell_type": "code",
   "execution_count": 138,
   "id": "e3f0b754-0fe1-433f-87f2-109ef6b4c43b",
   "metadata": {},
   "outputs": [],
   "source": [
    "x_train, x_test, y_train, y_test = train_test_split(x, y , test_size = 0.3)"
   ]
  },
  {
   "cell_type": "code",
   "execution_count": 139,
   "id": "947e0c0f-ed4f-45f4-b6b9-31a0bba1b11c",
   "metadata": {},
   "outputs": [
    {
     "data": {
      "text/plain": [
       "LinearRegression()"
      ]
     },
     "execution_count": 139,
     "metadata": {},
     "output_type": "execute_result"
    }
   ],
   "source": [
    "model = LinearRegression()\n",
    "model.fit(x_train, y_train)"
   ]
  },
  {
   "cell_type": "code",
   "execution_count": 140,
   "id": "521389fc-1392-4a11-9213-c4166115c286",
   "metadata": {},
   "outputs": [
    {
     "data": {
      "text/plain": [
       "array([ 1061.16353997,  1097.96772608,  2163.56751621, ...,\n",
       "        1780.80534865, 10604.01807491, 15434.02853147])"
      ]
     },
     "execution_count": 140,
     "metadata": {},
     "output_type": "execute_result"
    }
   ],
   "source": [
    "model.predict(x_test)"
   ]
  },
  {
   "cell_type": "code",
   "execution_count": 141,
   "id": "23286621-1388-4b4f-9055-3a24f5409f73",
   "metadata": {},
   "outputs": [
    {
     "data": {
      "text/plain": [
       "0.760214095138469"
      ]
     },
     "execution_count": 141,
     "metadata": {},
     "output_type": "execute_result"
    }
   ],
   "source": [
    "model.score(x_test, y_test)"
   ]
  },
  {
   "cell_type": "code",
   "execution_count": 142,
   "id": "70dff4df-35c5-49fc-8c0f-b3c02c79fd26",
   "metadata": {},
   "outputs": [
    {
     "data": {
      "image/png": "[encoded data removed]",
      "text/plain": [
       "<Figure size 432x288 with 1 Axes>"
      ]
     },
     "metadata": {},
     "output_type": "display_data"
    }
   ],
   "source": [
    "\n",
    "## setting plot style\n",
    "plt.style.use('fivethirtyeight')\n",
    "## plotting residual errors in training data\n",
    "plt.scatter(model.predict(x_train), model.predict(x_train) - y_train,\n",
    "            color = \"green\", s = 10, label = 'Train data')\n",
    "## plotting residual errors in test data\n",
    "plt.scatter(model.predict(x_test), model.predict(x_test) - y_test,\n",
    "            color = \"blue\", s = 10, label = 'Test data')\n",
    "## plotting line for zero residual error\n",
    "plt.hlines(y = 0, xmin = 0, xmax = 50, linewidth = 2)\n",
    "## plotting legend\n",
    "plt.legend(loc = 'upper right')\n",
    "  \n",
    "## plot title\n",
    "plt.title(\"Residual errors\")\n",
    "  \n",
    "## method call for showing the plot\n",
    "plt.show()"
   ]
  }
 ],
 "metadata": {
  "kernelspec": {
   "display_name": "Python 3 (ipykernel)",
   "language": "python",
   "name": "python3"
  },
  "language_info": {
   "codemirror_mode": {
    "name": "ipython",
    "version": 3
   },
   "file_extension": ".py",
   "mimetype": "text/x-python",
   "name": "python",
   "nbconvert_exporter": "python",
   "pygments_lexer": "ipython3",
   "version": "3.9.7"
  }
 },
 "nbformat": 4,
 "nbformat_minor": 5
}
